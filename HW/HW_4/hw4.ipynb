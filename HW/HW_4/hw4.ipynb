{
 "cells": [
  {
   "cell_type": "markdown",
   "metadata": {},
   "source": [
    "# HW4. Indexes & Query Processing & Normalization"
   ]
  },
  {
   "cell_type": "markdown",
   "metadata": {},
   "source": [
    "## Objectives"
   ]
  },
  {
   "cell_type": "markdown",
   "metadata": {},
   "source": [
    "In this assignment, you will review what you have learned in the Transaction Processing, Normalization, Views and Indexes, and Query Processing Modules. In particular, you will practice:\n",
    "\n",
    "- How to decide if a transaction schedule is conflict-serializable\n",
    "- How indexing can change query processing\n",
    "- How indexing changes query performance\n",
    "- How B-Trees store records\n",
    "- Query processing and optimization\n",
    "- How to construct BCNF and 3NF decomposition"
   ]
  },
  {
   "cell_type": "markdown",
   "metadata": {},
   "source": [
    "## Q1 (10 points): Transaction Processing"
   ]
  },
  {
   "cell_type": "markdown",
   "metadata": {},
   "source": [
    "Consider this schedule: $r1(A); r2(A); r1(B); r2(B); r3(A); r4(B); w1(A); w2(B);$"
   ]
  },
  {
   "cell_type": "markdown",
   "metadata": {},
   "source": [
    "Q1.1 (5 points) What is the precedence graph for the schedule?"
   ]
  },
  {
   "cell_type": "markdown",
   "metadata": {},
   "source": [
    "#PROVIDE YOUR ANSWER HERE. \n",
    "\n",
    "##You may provide an image containing your answers for this question. \n",
    "\n",
    "##See https://mljar.com/blog/jupyter-notebook-insert-image/ for ways to insert images in Jupyter Notebook."
   ]
  },
  {
   "cell_type": "markdown",
   "metadata": {},
   "source": [
    "Q1.2 (5 points) Is the schedule confict-serializable? If so, what are all the equivalent\n",
    "serial schedules?"
   ]
  },
  {
   "cell_type": "markdown",
   "metadata": {},
   "source": [
    "#PROVIDE YOUR ANSWER HERE."
   ]
  },
  {
   "cell_type": "markdown",
   "metadata": {},
   "source": [
    "## Q2 (10 points): Indexing"
   ]
  },
  {
   "cell_type": "markdown",
   "metadata": {},
   "source": [
    "In this question, you will be asked to select suitable indexes to speed up query performance and examine the query plan of a SQL query.\n",
    "\n",
    "We are going to use a new database called flights.db. In the database, there is a single table, called FLIGHTS. The following shows its schema:\n",
    "\n",
    "    FLIGHTS(fid, year, month_id, day_of_month, day_of_week_id, \n",
    "            carrier_id, flight_num, origin_city, origin_state, \n",
    "            dest_city, dest_state, departure_delay, taxi_out, \n",
    "            arrival_delay, canceled, actual_time, distance)\n",
    "\n",
    "Note that this task only needs to use four attributes: `carrier_id`, `origin_city`, `actual_time`, and `dest_city`."
   ]
  },
  {
   "cell_type": "code",
   "execution_count": 12,
   "metadata": {},
   "outputs": [],
   "source": [
    "%load_ext sql"
   ]
  },
  {
   "cell_type": "code",
   "execution_count": 13,
   "metadata": {},
   "outputs": [
    {
     "data": {
      "text/html": [
       "<span style=\"None\">Connecting to &#x27;sqlite:///flight.db&#x27;</span>"
      ],
      "text/plain": [
       "Connecting to 'sqlite:///flight.db'"
      ]
     },
     "metadata": {},
     "output_type": "display_data"
    }
   ],
   "source": [
    "%sql sqlite:///flight.db"
   ]
  },
  {
   "cell_type": "markdown",
   "metadata": {},
   "source": [
    "Consider the following queries:\n",
    "\n",
    "```sqlite\n",
    "(a)  SELECT DISTINCT carrier_id\n",
    "     FROM Flights\n",
    "     WHERE origin_city = 'Seattle WA' AND actual_time <= 180;\n",
    "```\n",
    "\n",
    "\n",
    "```sqlite\n",
    "(b)  SELECT DISTINCT carrier_id\n",
    "     FROM Flights\n",
    "     WHERE origin_city = 'Gunnison CO' AND actual_time <= 180;\n",
    "```\n",
    "\n",
    "\n",
    "```sqlite\n",
    "(c)  SELECT DISTINCT carrier_id\n",
    "     FROM Flights\n",
    "     WHERE origin_city = 'Seattle WA' AND actual_time <= 30;\n",
    "```"
   ]
  },
  {
   "cell_type": "markdown",
   "metadata": {},
   "source": [
    "Choose one single simple index (index on one attribute) that is most likely to speed up all three queries. Write down the `CREATE INDEX` statement and explain why you chose that index below."
   ]
  },
  {
   "cell_type": "markdown",
   "metadata": {},
   "source": [
    "Q2.1. (1 point) What is the CREATE INDEX statement?"
   ]
  },
  {
   "cell_type": "code",
   "execution_count": 69,
   "metadata": {},
   "outputs": [],
   "source": [
    "#PROVIDE YOUR ANSWER HERE. "
   ]
  },
  {
   "cell_type": "markdown",
   "metadata": {},
   "source": [
    "Q2.2. (1 point) Why did you choose the index? "
   ]
  },
  {
   "cell_type": "markdown",
   "metadata": {},
   "source": [
    "##REPLACE WITH YOUR ANSWER"
   ]
  },
  {
   "cell_type": "markdown",
   "metadata": {},
   "source": [
    "Open a command line shell and start the sqlite program. Connect to the provided flights.db, and check whether the FLIGHTS table has the index that you indicate above. If not, add this index to the FLIGHTS table. "
   ]
  },
  {
   "cell_type": "markdown",
   "metadata": {},
   "source": [
    "Q2.3. (0.5 point) Does the FLIGHTS table has the index that you indicate above?  Justify your answer with command line shell outputs."
   ]
  },
  {
   "cell_type": "markdown",
   "metadata": {},
   "source": [
    "##REPLACE WITH YOUR ANSWER"
   ]
  },
  {
   "cell_type": "markdown",
   "metadata": {},
   "source": [
    "Q2.4. (1.5 point) Please check whether each query used the index or not.  Justify your answer with command line shell outputs.\n",
    "\n",
    "**Hint:** you can use `EXPLAIN QUERY PLAN` to see the query plan of each query. Indicate for each query if it used the index or not. "
   ]
  },
  {
   "cell_type": "markdown",
   "metadata": {},
   "source": [
    "##REPLACE WITH YOUR ANSWER"
   ]
  },
  {
   "cell_type": "markdown",
   "metadata": {},
   "source": [
    "Now, consider this query:\n",
    "\n",
    "```sqlite\n",
    "(d) SELECT DISTINCT F2.origin_city\n",
    "     FROM Flights F1, Flights F2\n",
    "     WHERE F1.dest_city = F2.dest_city\n",
    "         AND F1.origin_city='Gunnison CO'\n",
    "         AND F1.actual_time <= 30;\n",
    "```"
   ]
  },
  {
   "cell_type": "markdown",
   "metadata": {},
   "source": [
    "Q2.5. (2 points) Choose one simple index (index on one attribute), different from the index for the question above, that is likely to speed up this query. Write down the `CREATE INDEX` statement."
   ]
  },
  {
   "cell_type": "code",
   "execution_count": 27,
   "metadata": {},
   "outputs": [],
   "source": [
    "##REPLACE WITH YOUR ANSWER"
   ]
  },
  {
   "cell_type": "markdown",
   "metadata": {},
   "source": [
    "Check whether the FLIGHTS table has this second index that you indicate above. If not, add this index to the FLIGHTS table. "
   ]
  },
  {
   "cell_type": "markdown",
   "metadata": {},
   "source": [
    "Now we want to know how effective the two indexes are. We compare the runtimes of the queries with and without indexes. \n",
    "\n",
    "**Hint:** Use `timer on` on sqlite3 command line to turn SQL timer on."
   ]
  },
  {
   "cell_type": "markdown",
   "metadata": {},
   "source": [
    "Q2.6. (2 points) Execute queries (a) to (d) on the FLIGHTS table that do not have the two indexes. Please record the runtime of each query. "
   ]
  },
  {
   "cell_type": "markdown",
   "metadata": {},
   "source": [
    "##REPLACE WITH YOUR ANSWER"
   ]
  },
  {
   "cell_type": "markdown",
   "metadata": {},
   "source": [
    "Q2.7. (2 points) Execute queries (a) to (d) on the FLIGHTS table that has the two indexes. Please record the runtime of each query. "
   ]
  },
  {
   "cell_type": "markdown",
   "metadata": {},
   "source": [
    "##REPLACE WITH YOUR ANSWER"
   ]
  },
  {
   "cell_type": "markdown",
   "metadata": {},
   "source": [
    "## Q3 (6 points): B-Trees"
   ]
  },
  {
   "cell_type": "markdown",
   "metadata": {},
   "source": [
    "Assume:\n",
    "\n",
    "    (1) blocks can hold either 10 records or 99 keys and 100 pointers\n",
    "    (2) the average B-tree node is 70% full. This means it will have 69 keys and 70 pointers. \n",
    "\n",
    "We can use B-trees as part of several different structures. For each structure described in the questions Q2.1 to Q2.3 below, determine: \n",
    "\n",
    "    (a) the total number of blocks needed for a 1,000,000-record file\n",
    "    (b) the average number of disk I/O’s to retrieve a record given its search key\n",
    "\n",
    "You may assume nothing is in memory initially, and the search key is the primary key for the records."
   ]
  },
  {
   "cell_type": "markdown",
   "metadata": {},
   "source": [
    "Q3.1. (2 points) The data file is a sequential file, sorted on the search key, with 10 records per block. The B-tree is a dense index."
   ]
  },
  {
   "cell_type": "markdown",
   "metadata": {},
   "source": [
    "#PROVIDE YOUR ANSWER HERE"
   ]
  },
  {
   "cell_type": "markdown",
   "metadata": {},
   "source": [
    "Q3.2. (2 points) The data file is a sequential file, sorted on the search key, with 10 records per block. The B-tree is a sparse index."
   ]
  },
  {
   "cell_type": "markdown",
   "metadata": {},
   "source": [
    "#PROVIDE YOUR ANSWER HERE"
   ]
  },
  {
   "cell_type": "markdown",
   "metadata": {},
   "source": [
    "Q3.3. (2 points) The data file consists of records in no particular order, packed 10 to a block. The B-tree is a dense index."
   ]
  },
  {
   "cell_type": "markdown",
   "metadata": {},
   "source": [
    "#PROVIDE YOUR ANSWER HERE"
   ]
  },
  {
   "cell_type": "markdown",
   "metadata": {},
   "source": [
    "## Q4 (6 points + 3 bonus points): Query Processing"
   ]
  },
  {
   "cell_type": "markdown",
   "metadata": {},
   "source": [
    "In the first assignment, given the bank database below:\n",
    "\n",
    " - Customer = {<span style=\"text-decoration:underline\">customerID</span>, firstName, lastName, income, birthDate}\n",
    " - Account = {<span style=\"text-decoration:underline\">accNumber</span>, type, balance, branchNumber<sup>FK-Branch</sup>}\n",
    " - Owns = {<span style=\"text-decoration:underline\">customerID</span><sup>FK-Customer</sup>, <span style=\"text-decoration:underline\">accNumber</span><sup>FK-Account</sup>}\n",
    " - Transactions = {<span style=\"text-decoration:underline\">transNumber</span>, <span style=\"text-decoration:underline\">accNumber</span><sup>FK-Account</sup>, amount}\n",
    " - Employee = {<span style=\"text-decoration:underline\">sin</span>, firstName, lastName, salary, branchNumber<sup>FK-Branch</sup>}\n",
    " - Branch = {<span style=\"text-decoration:underline\">branchNumber</span>, branchName, managerSIN<sup>FK-Employee</sup>, budget}\n",
    "\n",
    "you wrote a SQL query to:\n",
    "\n",
    "Show account number, account type, account balance, and transaction amount of the accounts with balance higher than 100,000 and transaction amounts higher than 15000, starting with the accounts with the highest transaction amount and highest account balance. "
   ]
  },
  {
   "cell_type": "markdown",
   "metadata": {},
   "source": [
    "Q4.1. (3 points) Parse your query into a query parse tree."
   ]
  },
  {
   "cell_type": "markdown",
   "metadata": {
    "scrolled": true
   },
   "source": [
    "#PROVIDE YOUR ANSWER HERE. \n",
    "\n",
    "##You may provide an image containing your answers for this question. \n",
    "\n",
    "##See https://mljar.com/blog/jupyter-notebook-insert-image/ for ways to insert images in Jupyter Notebook."
   ]
  },
  {
   "cell_type": "markdown",
   "metadata": {},
   "source": [
    "Q4.2. (3 points) Convert your parse tree to the equivalent relational algebraic representation (rewrite if necessary)."
   ]
  },
  {
   "cell_type": "markdown",
   "metadata": {},
   "source": [
    "#PROVIDE YOUR ANSWER HERE. \n",
    "\n",
    "##You may provide an image containing your answers for this question "
   ]
  },
  {
   "cell_type": "markdown",
   "metadata": {},
   "source": [
    "Q4.3. OPTIONAL (bonus 3 points) Assume you have a million records in each of the six tables above. If you need, make necessary assumptions about your storage blocks, as well as about charactristics in the bank.db. Can you estimate the size and cost of the intermediate tables in your query plan?"
   ]
  },
  {
   "cell_type": "markdown",
   "metadata": {},
   "source": [
    "##PROVIDE YOUR ANSWER HERE."
   ]
  },
  {
   "cell_type": "markdown",
   "metadata": {},
   "source": [
    "## Q5 (10 points) Normalization"
   ]
  },
  {
   "cell_type": "markdown",
   "metadata": {},
   "source": [
    "Consider the schema over attributes A, B, C, D, E, F and the following set of FDs:\n",
    "\n",
    "EF → BC \n",
    "\n",
    "A → D \n",
    "\n",
    "B → AE \n",
    "\n",
    "BD → C\n"
   ]
  },
  {
   "cell_type": "markdown",
   "metadata": {},
   "source": [
    "Q5.1 (5 points) Find a lossless BCNF decomposition. Is it dependency-preserving?"
   ]
  },
  {
   "cell_type": "markdown",
   "metadata": {},
   "source": [
    "#PROVIDE YOUR ANSWER HERE. \n",
    "\n",
    "##You may provide an image containing your answers for this question "
   ]
  },
  {
   "cell_type": "markdown",
   "metadata": {},
   "source": [
    "Q5.2 (5 points) Is the schema in 3NF? If not, apply the 3NF synthesis algorithm to obtain a lossless, dependency-\n",
    "preserving 3NF decomposition."
   ]
  },
  {
   "cell_type": "markdown",
   "metadata": {},
   "source": [
    "#PROVIDE YOUR ANSWER HERE\n",
    "\n",
    "##You may provide an image containing answer for this question "
   ]
  },
  {
   "cell_type": "markdown",
   "metadata": {},
   "source": [
    "## Submission"
   ]
  },
  {
   "cell_type": "markdown",
   "metadata": {},
   "source": [
    "Complete the answers to the questions in the [hw4.ipynb](hw4.ipynb) notebook and zip the notebook with additional image files that you may have used in a file named HW4.zip, and submit it through Canvas system to your Homework (4) activity."
   ]
  }
 ],
 "metadata": {
  "kernelspec": {
   "display_name": "Python [conda env:base] *",
   "language": "python",
   "name": "conda-base-py"
  },
  "language_info": {
   "codemirror_mode": {
    "name": "ipython",
    "version": 3
   },
   "file_extension": ".py",
   "mimetype": "text/x-python",
   "name": "python",
   "nbconvert_exporter": "python",
   "pygments_lexer": "ipython3",
   "version": "3.12.3"
  }
 },
 "nbformat": 4,
 "nbformat_minor": 4
}
