{
 "cells": [
  {
   "cell_type": "markdown",
   "metadata": {},
   "source": [
    "# HW1. SQL Basics"
   ]
  },
  {
   "cell_type": "markdown",
   "metadata": {},
   "source": [
    "## Objectives"
   ]
  },
  {
   "cell_type": "markdown",
   "metadata": {},
   "source": [
    "In this homework assignment, you will use SQL to store and query a database. You will learn the followings:\n",
    "\n",
    " - How to create a database\n",
    " - How to load an available database\n",
    " - How to create a table \n",
    " - How to change a table after creation\n",
    " - How to insert data into a table\n",
    " - How to select certain rows or columns from a table\n",
    " - How to join two tables together\n",
    " - How to use expressions\n",
    " "
   ]
  },
  {
   "cell_type": "markdown",
   "metadata": {},
   "source": [
    "You will also use [SQLite](https://en.wikipedia.org/wiki/SQLite) as the DBMS. In contrast to many other database management systems (e.g., Oracle, DB2, and SQL Server), SQLite is not a client–server database engine. Rather, it is embedded into the end program. This unique feature has led it to be adopted by [billions of applications](https://www.sqlite.org/mostdeployed.html). \n",
    "\n",
    "This assignment has a total of five questions and 25 points. \n",
    "\n",
    "### Code style\n",
    "No penalty for bad code style but it is recomended to use the standard SQL style https://www.sqlstyle.guide/ \n"
   ]
  },
  {
   "cell_type": "markdown",
   "metadata": {},
   "source": [
    "## Setup "
   ]
  },
  {
   "cell_type": "markdown",
   "metadata": {},
   "source": [
    "You need the same initial setup as for the Interactive Session 1."
   ]
  },
  {
   "cell_type": "markdown",
   "metadata": {},
   "source": [
    "# Questions"
   ]
  },
  {
   "cell_type": "markdown",
   "metadata": {},
   "source": [
    "## Q1: Create a database (4 points)"
   ]
  },
  {
   "cell_type": "markdown",
   "metadata": {},
   "source": [
    "The goal is to create a database to manage student and course information in computing science department (named `cssys`), and then create three tables in this database. The first table is named `students`, the second table is named `courses`, and the third table is called `transcript`. "
   ]
  },
  {
   "cell_type": "markdown",
   "metadata": {},
   "source": [
    "To start, please execute the following cell to load the sql extension."
   ]
  },
  {
   "cell_type": "code",
   "execution_count": 1,
   "metadata": {},
   "outputs": [],
   "source": [
    "%load_ext sql\n",
    "%config SqlMagic.displaylimit = None"
   ]
  },
  {
   "cell_type": "markdown",
   "metadata": {},
   "source": [
    "1.1 (1 point) Create an empty database  named `cssys`"
   ]
  },
  {
   "cell_type": "code",
   "execution_count": 2,
   "metadata": {},
   "outputs": [],
   "source": [
    "%sql sqlite:///cssys.db"
   ]
  },
  {
   "cell_type": "markdown",
   "metadata": {},
   "source": [
    "1.2 (1 point) Create a  table  named `students`"
   ]
  },
  {
   "cell_type": "markdown",
   "metadata": {},
   "source": [
    "Please create a table named `students`.\n",
    "The `students` table has six attributes: student id, first name, last name, age, gender, gpa:\n",
    "* `id` - integer\n",
    "* `firstname` - char(15)\n",
    "* `lastname` - char(15)\n",
    "* `age` - integer\n",
    "* `gender` - char(1)\n",
    "* `gpa` - double\n",
    "* `id` is Primary Key"
   ]
  },
  {
   "cell_type": "code",
   "execution_count": 3,
   "metadata": {},
   "outputs": [
    {
     "name": "stdout",
     "output_type": "stream",
     "text": [
      " * sqlite:///cssys.db\n",
      "Done.\n",
      "Done.\n"
     ]
    },
    {
     "data": {
      "text/plain": [
       "[]"
      ]
     },
     "execution_count": 3,
     "metadata": {},
     "output_type": "execute_result"
    }
   ],
   "source": [
    "%%sql\n",
    "DROP TABLE IF EXISTS students;\n",
    "CREATE TABLE students (\n",
    "    id INTEGER PRIMARY KEY,\n",
    "    firstname CHAR(15),\n",
    "    lastname CHAR(15),\n",
    "    age INTEGER,\n",
    "    gender CHAR(1),\n",
    "    gpa DOUBLE\n",
    ")"
   ]
  },
  {
   "cell_type": "markdown",
   "metadata": {},
   "source": [
    "1.3 (1 point) Create a table  named `courses`"
   ]
  },
  {
   "cell_type": "markdown",
   "metadata": {},
   "source": [
    "Please create a table named `courses`.\n",
    "The `courses` table has four attributes: id, name, credit, pre-requisites:\n",
    "* `id`- integer\n",
    "* `name` - varchar(30)\n",
    "* `credit` - integer\n",
    "* `prereq` - integer\n",
    "* (`id`, `prereq`) is Primary Key"
   ]
  },
  {
   "cell_type": "code",
   "execution_count": 12,
   "metadata": {},
   "outputs": [
    {
     "name": "stdout",
     "output_type": "stream",
     "text": [
      " * sqlite:///cssys.db\n",
      "(sqlite3.OperationalError) table courses already exists\n",
      "[SQL: CREATE TABLE courses (\n",
      "    id INTEGER,\n",
      "    name VARCHAR(30),\n",
      "    credit INTEGER,\n",
      "    prereq INTEGER,\n",
      "    PRIMARY KEY (id, prereq)\n",
      ")]\n",
      "(Background on this error at: https://sqlalche.me/e/20/e3q8)\n"
     ]
    }
   ],
   "source": [
    "%%sql\n",
    "CREATE TABLE courses (\n",
    "    id INTEGER,\n",
    "    name VARCHAR(30),\n",
    "    credit INTEGER,\n",
    "    prereq INTEGER,\n",
    "    PRIMARY KEY (id, prereq)\n",
    ")\n"
   ]
  },
  {
   "cell_type": "markdown",
   "metadata": {},
   "source": [
    "1.4 (1 point) Create a table  named `transcript`"
   ]
  },
  {
   "cell_type": "markdown",
   "metadata": {},
   "source": [
    "Please create a table named `transcript`.\n",
    "The `transcript` table has five columns: studentid, courseid, mark, semester, credit:\n",
    "* `studentid`- integer\n",
    "* `courseid` - integer\n",
    "* `mark` - double\n",
    "* `semester` - integer (represented as `year + 01:fall, 02:spring, 03:summer`)\n",
    "* `credit` - integer\n",
    "* (`studentid`,`courseid`) is Primary Key"
   ]
  },
  {
   "cell_type": "code",
   "execution_count": 13,
   "metadata": {},
   "outputs": [
    {
     "name": "stdout",
     "output_type": "stream",
     "text": [
      " * sqlite:///cssys.db\n",
      "(sqlite3.OperationalError) table transcript already exists\n",
      "[SQL: CREATE TABLE transcript (\n",
      "    studentid INTEGER,\n",
      "    courseid INTEGER,\n",
      "    mark DOUBLE,\n",
      "    semester INTEGER,\n",
      "    credit INTEGER,\n",
      "    PRIMARY KEY (studentid, courseid)\n",
      ")]\n",
      "(Background on this error at: https://sqlalche.me/e/20/e3q8)\n"
     ]
    }
   ],
   "source": [
    "%%sql\n",
    "CREATE TABLE transcript (\n",
    "    studentid INTEGER,\n",
    "    courseid INTEGER,\n",
    "    mark DOUBLE,\n",
    "    semester INTEGER,\n",
    "    credit INTEGER,\n",
    "    PRIMARY KEY (studentid, courseid)\n",
    ")"
   ]
  },
  {
   "cell_type": "code",
   "execution_count": 14,
   "metadata": {},
   "outputs": [
    {
     "name": "stdout",
     "output_type": "stream",
     "text": [
      " * sqlite:///cssys.db\n",
      "Done.\n"
     ]
    },
    {
     "data": {
      "text/html": [
       "<table>\n",
       "    <thead>\n",
       "        <tr>\n",
       "            <th>id</th>\n",
       "            <th>firstname</th>\n",
       "            <th>lastname</th>\n",
       "            <th>age</th>\n",
       "            <th>gender</th>\n",
       "            <th>gpa</th>\n",
       "        </tr>\n",
       "    </thead>\n",
       "    <tbody>\n",
       "    </tbody>\n",
       "</table>"
      ],
      "text/plain": [
       "[]"
      ]
     },
     "execution_count": 14,
     "metadata": {},
     "output_type": "execute_result"
    }
   ],
   "source": [
    "\n",
    "%%sql \n",
    "SELECT * FROM students\n"
   ]
  },
  {
   "cell_type": "code",
   "execution_count": 15,
   "metadata": {},
   "outputs": [
    {
     "name": "stdout",
     "output_type": "stream",
     "text": [
      " * sqlite:///cssys.db\n",
      "Done.\n"
     ]
    },
    {
     "data": {
      "text/html": [
       "<table>\n",
       "    <thead>\n",
       "        <tr>\n",
       "            <th>id</th>\n",
       "            <th>name</th>\n",
       "            <th>credit</th>\n",
       "            <th>prereq</th>\n",
       "        </tr>\n",
       "    </thead>\n",
       "    <tbody>\n",
       "    </tbody>\n",
       "</table>"
      ],
      "text/plain": [
       "[]"
      ]
     },
     "execution_count": 15,
     "metadata": {},
     "output_type": "execute_result"
    }
   ],
   "source": [
    "\n",
    "%%sql \n",
    "SELECT * FROM courses\n"
   ]
  },
  {
   "cell_type": "code",
   "execution_count": 16,
   "metadata": {},
   "outputs": [
    {
     "name": "stdout",
     "output_type": "stream",
     "text": [
      " * sqlite:///cssys.db\n",
      "Done.\n"
     ]
    },
    {
     "data": {
      "text/html": [
       "<table>\n",
       "    <thead>\n",
       "        <tr>\n",
       "            <th>studentid</th>\n",
       "            <th>courseid</th>\n",
       "            <th>mark</th>\n",
       "            <th>semester</th>\n",
       "            <th>credit</th>\n",
       "        </tr>\n",
       "    </thead>\n",
       "    <tbody>\n",
       "    </tbody>\n",
       "</table>"
      ],
      "text/plain": [
       "[]"
      ]
     },
     "execution_count": 16,
     "metadata": {},
     "output_type": "execute_result"
    }
   ],
   "source": [
    "\n",
    "%%sql \n",
    "SELECT * FROM transcript"
   ]
  },
  {
   "cell_type": "markdown",
   "metadata": {},
   "source": [
    "## Q2: Modify a database (2 point)"
   ]
  },
  {
   "cell_type": "markdown",
   "metadata": {},
   "source": [
    "Please write SQL expressions to replace the age attribute with a Date of Birth (dob) attribute in the table `students`. Please decide on the type and the default value of this attribute and include it in your response. You should decide on how to perform this step (delete/recreate/modify). "
   ]
  },
  {
   "cell_type": "code",
   "execution_count": 29,
   "metadata": {},
   "outputs": [
    {
     "name": "stdout",
     "output_type": "stream",
     "text": [
      " * sqlite:///cssys.db\n",
      "Done.\n",
      "Done.\n",
      "Done.\n",
      "0 rows affected.\n",
      "Done.\n"
     ]
    },
    {
     "data": {
      "text/plain": [
       "[]"
      ]
     },
     "execution_count": 29,
     "metadata": {},
     "output_type": "execute_result"
    }
   ],
   "source": [
    "%%sql\n",
    "DROP TABLE IF EXISTS students_old;\n",
    "ALTER TABLE students RENAME TO students_old;\n",
    "\n",
    "CREATE TABLE students (\n",
    "    id INTEGER PRIMARY KEY,\n",
    "    firstname CHAR(15),\n",
    "    lastname CHAR(15),\n",
    "    dob DATE DEFAULT '2000-01-01',\n",
    "    gender CHAR(1),\n",
    "    gpa DOUBLE\n",
    ");\n",
    "\n",
    "INSERT INTO students (id, firstname, lastname, dob, gender, gpa)\n",
    "SELECT id, firstname, lastname, '2000-01-01', gender, gpa FROM students_old;\n",
    "\n",
    "DROP TABLE students_old;"
   ]
  },
  {
   "cell_type": "code",
   "execution_count": 35,
   "metadata": {},
   "outputs": [
    {
     "name": "stdout",
     "output_type": "stream",
     "text": [
      " * sqlite:///cssys.db\n",
      "Done.\n"
     ]
    },
    {
     "data": {
      "text/html": [
       "<table>\n",
       "    <thead>\n",
       "        <tr>\n",
       "            <th>id</th>\n",
       "            <th>firstname</th>\n",
       "            <th>lastname</th>\n",
       "            <th>dob</th>\n",
       "            <th>gender</th>\n",
       "            <th>gpa</th>\n",
       "        </tr>\n",
       "    </thead>\n",
       "    <tbody>\n",
       "    </tbody>\n",
       "</table>"
      ],
      "text/plain": [
       "[]"
      ]
     },
     "execution_count": 35,
     "metadata": {},
     "output_type": "execute_result"
    }
   ],
   "source": [
    "%%sql \n",
    "SELECT * FROM students"
   ]
  },
  {
   "cell_type": "markdown",
   "metadata": {},
   "source": [
    "## Q3: Add data to a database (3 points)"
   ]
  },
  {
   "cell_type": "markdown",
   "metadata": {},
   "source": [
    "3.1 (1 point) Add rows to `students`."
   ]
  },
  {
   "cell_type": "markdown",
   "metadata": {},
   "source": [
    "Please write SQL queries to insert the following rows to the `students` table. Change the format of date of birth attribute value based on your definition of its type.\n",
    "```\n",
    "1001, adam, smith, 2000-01-03, m, 3.1\n",
    "1002, alice, frank, 1999-03-11, f , 3.4\n",
    "1003, bob, hal, 1999-09-01, m, 2\n",
    "```"
   ]
  },
  {
   "cell_type": "code",
   "execution_count": 36,
   "metadata": {
    "scrolled": true
   },
   "outputs": [
    {
     "name": "stdout",
     "output_type": "stream",
     "text": [
      " * sqlite:///cssys.db\n",
      "3 rows affected.\n"
     ]
    },
    {
     "data": {
      "text/plain": [
       "[]"
      ]
     },
     "execution_count": 36,
     "metadata": {},
     "output_type": "execute_result"
    }
   ],
   "source": [
    "%%sql\n",
    "INSERT INTO students (id, firstname, lastname, dob, gender, gpa) VALUES\n",
    "(1001, 'adam', 'smith', '2000-01-03', 'm', 3.1),\n",
    "(1002, 'alice', 'frank', '1999-03-11', 'f', 3.4),\n",
    "(1003, 'bob', 'hal', '1999-09-01', 'm', 2.0);"
   ]
  },
  {
   "cell_type": "code",
   "execution_count": 37,
   "metadata": {},
   "outputs": [
    {
     "name": "stdout",
     "output_type": "stream",
     "text": [
      " * sqlite:///cssys.db\n",
      "Done.\n"
     ]
    },
    {
     "data": {
      "text/html": [
       "<table>\n",
       "    <thead>\n",
       "        <tr>\n",
       "            <th>id</th>\n",
       "            <th>firstname</th>\n",
       "            <th>lastname</th>\n",
       "            <th>dob</th>\n",
       "            <th>gender</th>\n",
       "            <th>gpa</th>\n",
       "        </tr>\n",
       "    </thead>\n",
       "    <tbody>\n",
       "        <tr>\n",
       "            <td>1001</td>\n",
       "            <td>adam</td>\n",
       "            <td>smith</td>\n",
       "            <td>2000-01-03</td>\n",
       "            <td>m</td>\n",
       "            <td>3.1</td>\n",
       "        </tr>\n",
       "        <tr>\n",
       "            <td>1002</td>\n",
       "            <td>alice</td>\n",
       "            <td>frank</td>\n",
       "            <td>1999-03-11</td>\n",
       "            <td>f</td>\n",
       "            <td>3.4</td>\n",
       "        </tr>\n",
       "        <tr>\n",
       "            <td>1003</td>\n",
       "            <td>bob</td>\n",
       "            <td>hal</td>\n",
       "            <td>1999-09-01</td>\n",
       "            <td>m</td>\n",
       "            <td>2.0</td>\n",
       "        </tr>\n",
       "    </tbody>\n",
       "</table>"
      ],
      "text/plain": [
       "[(1001, 'adam', 'smith', '2000-01-03', 'm', 3.1),\n",
       " (1002, 'alice', 'frank', '1999-03-11', 'f', 3.4),\n",
       " (1003, 'bob', 'hal', '1999-09-01', 'm', 2.0)]"
      ]
     },
     "execution_count": 37,
     "metadata": {},
     "output_type": "execute_result"
    }
   ],
   "source": [
    "%%sql \n",
    "SELECT * FROM students"
   ]
  },
  {
   "cell_type": "markdown",
   "metadata": {},
   "source": [
    "3.2 (1 point) Add rows to `courses`."
   ]
  },
  {
   "cell_type": "markdown",
   "metadata": {},
   "source": [
    "Please write SQL queries to insert the following rows to the `courses` table.\n",
    "```\n",
    "100, programming, 3, NULL\n",
    "110, math, 3, NULL\n",
    "120, web, 4, NULL\n",
    "301, networking, 4, 200\n",
    "301, networking, 4, 150\n",
    "301, networking, 4, 210\n",
    "354, database, 3, 120\n",
    "354, database, 3, 110\n",
    "360, os, 3, 150\n",
    "360, os, 3, 210\n",
    "```"
   ]
  },
  {
   "cell_type": "code",
   "execution_count": 38,
   "metadata": {
    "scrolled": true
   },
   "outputs": [
    {
     "name": "stdout",
     "output_type": "stream",
     "text": [
      " * sqlite:///cssys.db\n",
      "10 rows affected.\n"
     ]
    },
    {
     "data": {
      "text/plain": [
       "[]"
      ]
     },
     "execution_count": 38,
     "metadata": {},
     "output_type": "execute_result"
    }
   ],
   "source": [
    "%%sql\n",
    "INSERT INTO courses (id, name, credit, prereq) VALUES\n",
    "(100, 'programming', 3, NULL),\n",
    "(110, 'math', 3, NULL),\n",
    "(120, 'web', 4, NULL),\n",
    "(301, 'networking', 4, 200),\n",
    "(301, 'networking', 4, 150),\n",
    "(301, 'networking', 4, 210),\n",
    "(354, 'database', 3, 120),\n",
    "(354, 'database', 3, 110),\n",
    "(360, 'os', 3, 150),\n",
    "(360, 'os', 3, 210);"
   ]
  },
  {
   "cell_type": "code",
   "execution_count": 39,
   "metadata": {},
   "outputs": [
    {
     "name": "stdout",
     "output_type": "stream",
     "text": [
      " * sqlite:///cssys.db\n",
      "Done.\n"
     ]
    },
    {
     "data": {
      "text/html": [
       "<table>\n",
       "    <thead>\n",
       "        <tr>\n",
       "            <th>id</th>\n",
       "            <th>name</th>\n",
       "            <th>credit</th>\n",
       "            <th>prereq</th>\n",
       "        </tr>\n",
       "    </thead>\n",
       "    <tbody>\n",
       "        <tr>\n",
       "            <td>100</td>\n",
       "            <td>programming</td>\n",
       "            <td>3</td>\n",
       "            <td>None</td>\n",
       "        </tr>\n",
       "        <tr>\n",
       "            <td>110</td>\n",
       "            <td>math</td>\n",
       "            <td>3</td>\n",
       "            <td>None</td>\n",
       "        </tr>\n",
       "        <tr>\n",
       "            <td>120</td>\n",
       "            <td>web</td>\n",
       "            <td>4</td>\n",
       "            <td>None</td>\n",
       "        </tr>\n",
       "        <tr>\n",
       "            <td>301</td>\n",
       "            <td>networking</td>\n",
       "            <td>4</td>\n",
       "            <td>200</td>\n",
       "        </tr>\n",
       "        <tr>\n",
       "            <td>301</td>\n",
       "            <td>networking</td>\n",
       "            <td>4</td>\n",
       "            <td>150</td>\n",
       "        </tr>\n",
       "        <tr>\n",
       "            <td>301</td>\n",
       "            <td>networking</td>\n",
       "            <td>4</td>\n",
       "            <td>210</td>\n",
       "        </tr>\n",
       "        <tr>\n",
       "            <td>354</td>\n",
       "            <td>database</td>\n",
       "            <td>3</td>\n",
       "            <td>120</td>\n",
       "        </tr>\n",
       "        <tr>\n",
       "            <td>354</td>\n",
       "            <td>database</td>\n",
       "            <td>3</td>\n",
       "            <td>110</td>\n",
       "        </tr>\n",
       "        <tr>\n",
       "            <td>360</td>\n",
       "            <td>os</td>\n",
       "            <td>3</td>\n",
       "            <td>150</td>\n",
       "        </tr>\n",
       "        <tr>\n",
       "            <td>360</td>\n",
       "            <td>os</td>\n",
       "            <td>3</td>\n",
       "            <td>210</td>\n",
       "        </tr>\n",
       "    </tbody>\n",
       "</table>"
      ],
      "text/plain": [
       "[(100, 'programming', 3, None),\n",
       " (110, 'math', 3, None),\n",
       " (120, 'web', 4, None),\n",
       " (301, 'networking', 4, 200),\n",
       " (301, 'networking', 4, 150),\n",
       " (301, 'networking', 4, 210),\n",
       " (354, 'database', 3, 120),\n",
       " (354, 'database', 3, 110),\n",
       " (360, 'os', 3, 150),\n",
       " (360, 'os', 3, 210)]"
      ]
     },
     "execution_count": 39,
     "metadata": {},
     "output_type": "execute_result"
    }
   ],
   "source": [
    "%%sql \n",
    "SELECT * FROM courses"
   ]
  },
  {
   "cell_type": "markdown",
   "metadata": {},
   "source": [
    "3.3 (1 point) Add rows to `transcript`."
   ]
  },
  {
   "cell_type": "markdown",
   "metadata": {},
   "source": [
    "Please write SQL queries to insert the following rows to the `transcript` table.\n",
    "```\n",
    "1001, 100, 3, 202201, 3\n",
    "1001, 110, 3.5, 202201, 3\n",
    "1001, 120, 2.7, 202201, 4\n",
    "1001, 301, 3.4, 202202, 4\n",
    "1002, 100, 3, 201801, 3\n",
    "1002, 110, 3.2, 202301, 3\n",
    "1002, 301, 3.1, 202302, 4\n",
    "1003, 100, 2.5, 202201, 3\n",
    "1003, 120, 3.5, 202301, 4\n",
    "1003, 301, 2.8, 202302, 4\n",
    "1003, 354, 4, 202303, 3\n",
    "1003, 360, 3.5, 202202, 3\n",
    "\n",
    "```"
   ]
  },
  {
   "cell_type": "code",
   "execution_count": 40,
   "metadata": {
    "scrolled": true
   },
   "outputs": [
    {
     "name": "stdout",
     "output_type": "stream",
     "text": [
      " * sqlite:///cssys.db\n",
      "12 rows affected.\n"
     ]
    },
    {
     "data": {
      "text/plain": [
       "[]"
      ]
     },
     "execution_count": 40,
     "metadata": {},
     "output_type": "execute_result"
    }
   ],
   "source": [
    "%%sql\n",
    "INSERT INTO transcript (studentid, courseid, mark, semester, credit) VALUES\n",
    "(1001, 100, 3, 202201, 3),\n",
    "(1001, 110, 3.5, 202201, 3),\n",
    "(1001, 120, 2.7, 202201, 4),\n",
    "(1001, 301, 3.4, 202202, 4),\n",
    "(1002, 100, 3, 201801, 3),\n",
    "(1002, 110, 3.2, 202301, 3),\n",
    "(1002, 301, 3.1, 202302, 4),\n",
    "(1003, 100, 2.5, 202201, 3),\n",
    "(1003, 120, 3.5, 202301, 4),\n",
    "(1003, 301, 2.8, 202302, 4),\n",
    "(1003, 354, 4, 202303, 3),\n",
    "(1003, 360, 3.5, 202202, 3);"
   ]
  },
  {
   "cell_type": "code",
   "execution_count": 41,
   "metadata": {},
   "outputs": [
    {
     "name": "stdout",
     "output_type": "stream",
     "text": [
      " * sqlite:///cssys.db\n",
      "Done.\n"
     ]
    },
    {
     "data": {
      "text/html": [
       "<table>\n",
       "    <thead>\n",
       "        <tr>\n",
       "            <th>studentid</th>\n",
       "            <th>courseid</th>\n",
       "            <th>mark</th>\n",
       "            <th>semester</th>\n",
       "            <th>credit</th>\n",
       "        </tr>\n",
       "    </thead>\n",
       "    <tbody>\n",
       "        <tr>\n",
       "            <td>1001</td>\n",
       "            <td>100</td>\n",
       "            <td>3.0</td>\n",
       "            <td>202201</td>\n",
       "            <td>3</td>\n",
       "        </tr>\n",
       "        <tr>\n",
       "            <td>1001</td>\n",
       "            <td>110</td>\n",
       "            <td>3.5</td>\n",
       "            <td>202201</td>\n",
       "            <td>3</td>\n",
       "        </tr>\n",
       "        <tr>\n",
       "            <td>1001</td>\n",
       "            <td>120</td>\n",
       "            <td>2.7</td>\n",
       "            <td>202201</td>\n",
       "            <td>4</td>\n",
       "        </tr>\n",
       "        <tr>\n",
       "            <td>1001</td>\n",
       "            <td>301</td>\n",
       "            <td>3.4</td>\n",
       "            <td>202202</td>\n",
       "            <td>4</td>\n",
       "        </tr>\n",
       "        <tr>\n",
       "            <td>1002</td>\n",
       "            <td>100</td>\n",
       "            <td>3.0</td>\n",
       "            <td>201801</td>\n",
       "            <td>3</td>\n",
       "        </tr>\n",
       "        <tr>\n",
       "            <td>1002</td>\n",
       "            <td>110</td>\n",
       "            <td>3.2</td>\n",
       "            <td>202301</td>\n",
       "            <td>3</td>\n",
       "        </tr>\n",
       "        <tr>\n",
       "            <td>1002</td>\n",
       "            <td>301</td>\n",
       "            <td>3.1</td>\n",
       "            <td>202302</td>\n",
       "            <td>4</td>\n",
       "        </tr>\n",
       "        <tr>\n",
       "            <td>1003</td>\n",
       "            <td>100</td>\n",
       "            <td>2.5</td>\n",
       "            <td>202201</td>\n",
       "            <td>3</td>\n",
       "        </tr>\n",
       "        <tr>\n",
       "            <td>1003</td>\n",
       "            <td>120</td>\n",
       "            <td>3.5</td>\n",
       "            <td>202301</td>\n",
       "            <td>4</td>\n",
       "        </tr>\n",
       "        <tr>\n",
       "            <td>1003</td>\n",
       "            <td>301</td>\n",
       "            <td>2.8</td>\n",
       "            <td>202302</td>\n",
       "            <td>4</td>\n",
       "        </tr>\n",
       "        <tr>\n",
       "            <td>1003</td>\n",
       "            <td>354</td>\n",
       "            <td>4.0</td>\n",
       "            <td>202303</td>\n",
       "            <td>3</td>\n",
       "        </tr>\n",
       "        <tr>\n",
       "            <td>1003</td>\n",
       "            <td>360</td>\n",
       "            <td>3.5</td>\n",
       "            <td>202202</td>\n",
       "            <td>3</td>\n",
       "        </tr>\n",
       "    </tbody>\n",
       "</table>"
      ],
      "text/plain": [
       "[(1001, 100, 3.0, 202201, 3),\n",
       " (1001, 110, 3.5, 202201, 3),\n",
       " (1001, 120, 2.7, 202201, 4),\n",
       " (1001, 301, 3.4, 202202, 4),\n",
       " (1002, 100, 3.0, 201801, 3),\n",
       " (1002, 110, 3.2, 202301, 3),\n",
       " (1002, 301, 3.1, 202302, 4),\n",
       " (1003, 100, 2.5, 202201, 3),\n",
       " (1003, 120, 3.5, 202301, 4),\n",
       " (1003, 301, 2.8, 202302, 4),\n",
       " (1003, 354, 4.0, 202303, 3),\n",
       " (1003, 360, 3.5, 202202, 3)]"
      ]
     },
     "execution_count": 41,
     "metadata": {},
     "output_type": "execute_result"
    }
   ],
   "source": [
    "%%sql \n",
    "SELECT * FROM transcript"
   ]
  },
  {
   "cell_type": "markdown",
   "metadata": {},
   "source": [
    "## Q4: Query a database (10 points)"
   ]
  },
  {
   "cell_type": "markdown",
   "metadata": {},
   "source": [
    "Please write the SQL query for each of the requests below."
   ]
  },
  {
   "cell_type": "markdown",
   "metadata": {},
   "source": [
    "4.1 (1 point) Please write a SQL query to show all rows in the `students` table."
   ]
  },
  {
   "cell_type": "code",
   "execution_count": 42,
   "metadata": {},
   "outputs": [
    {
     "name": "stdout",
     "output_type": "stream",
     "text": [
      " * sqlite:///cssys.db\n",
      "Done.\n"
     ]
    },
    {
     "data": {
      "text/html": [
       "<table>\n",
       "    <thead>\n",
       "        <tr>\n",
       "            <th>id</th>\n",
       "            <th>firstname</th>\n",
       "            <th>lastname</th>\n",
       "            <th>dob</th>\n",
       "            <th>gender</th>\n",
       "            <th>gpa</th>\n",
       "        </tr>\n",
       "    </thead>\n",
       "    <tbody>\n",
       "        <tr>\n",
       "            <td>1001</td>\n",
       "            <td>adam</td>\n",
       "            <td>smith</td>\n",
       "            <td>2000-01-03</td>\n",
       "            <td>m</td>\n",
       "            <td>3.1</td>\n",
       "        </tr>\n",
       "        <tr>\n",
       "            <td>1002</td>\n",
       "            <td>alice</td>\n",
       "            <td>frank</td>\n",
       "            <td>1999-03-11</td>\n",
       "            <td>f</td>\n",
       "            <td>3.4</td>\n",
       "        </tr>\n",
       "        <tr>\n",
       "            <td>1003</td>\n",
       "            <td>bob</td>\n",
       "            <td>hal</td>\n",
       "            <td>1999-09-01</td>\n",
       "            <td>m</td>\n",
       "            <td>2.0</td>\n",
       "        </tr>\n",
       "    </tbody>\n",
       "</table>"
      ],
      "text/plain": [
       "[(1001, 'adam', 'smith', '2000-01-03', 'm', 3.1),\n",
       " (1002, 'alice', 'frank', '1999-03-11', 'f', 3.4),\n",
       " (1003, 'bob', 'hal', '1999-09-01', 'm', 2.0)]"
      ]
     },
     "execution_count": 42,
     "metadata": {},
     "output_type": "execute_result"
    }
   ],
   "source": [
    "%%sql\n",
    "SELECT * FROM students;"
   ]
  },
  {
   "cell_type": "markdown",
   "metadata": {},
   "source": [
    "4.2 (1 point) Please write a SQL query to show the rows whose `credit` is `3` in the `courses` table."
   ]
  },
  {
   "cell_type": "code",
   "execution_count": 43,
   "metadata": {
    "scrolled": true
   },
   "outputs": [
    {
     "name": "stdout",
     "output_type": "stream",
     "text": [
      " * sqlite:///cssys.db\n",
      "Done.\n"
     ]
    },
    {
     "data": {
      "text/html": [
       "<table>\n",
       "    <thead>\n",
       "        <tr>\n",
       "            <th>id</th>\n",
       "            <th>name</th>\n",
       "            <th>credit</th>\n",
       "            <th>prereq</th>\n",
       "        </tr>\n",
       "    </thead>\n",
       "    <tbody>\n",
       "        <tr>\n",
       "            <td>100</td>\n",
       "            <td>programming</td>\n",
       "            <td>3</td>\n",
       "            <td>None</td>\n",
       "        </tr>\n",
       "        <tr>\n",
       "            <td>110</td>\n",
       "            <td>math</td>\n",
       "            <td>3</td>\n",
       "            <td>None</td>\n",
       "        </tr>\n",
       "        <tr>\n",
       "            <td>354</td>\n",
       "            <td>database</td>\n",
       "            <td>3</td>\n",
       "            <td>120</td>\n",
       "        </tr>\n",
       "        <tr>\n",
       "            <td>354</td>\n",
       "            <td>database</td>\n",
       "            <td>3</td>\n",
       "            <td>110</td>\n",
       "        </tr>\n",
       "        <tr>\n",
       "            <td>360</td>\n",
       "            <td>os</td>\n",
       "            <td>3</td>\n",
       "            <td>150</td>\n",
       "        </tr>\n",
       "        <tr>\n",
       "            <td>360</td>\n",
       "            <td>os</td>\n",
       "            <td>3</td>\n",
       "            <td>210</td>\n",
       "        </tr>\n",
       "    </tbody>\n",
       "</table>"
      ],
      "text/plain": [
       "[(100, 'programming', 3, None),\n",
       " (110, 'math', 3, None),\n",
       " (354, 'database', 3, 120),\n",
       " (354, 'database', 3, 110),\n",
       " (360, 'os', 3, 150),\n",
       " (360, 'os', 3, 210)]"
      ]
     },
     "execution_count": 43,
     "metadata": {},
     "output_type": "execute_result"
    }
   ],
   "source": [
    "%%sql\n",
    "SELECT * FROM courses WHERE credit = 3;"
   ]
  },
  {
   "cell_type": "markdown",
   "metadata": {},
   "source": [
    "4.3 (1 point) Please write a SQL query to show the rows whose `mark` is larger than 3 and `credit` is no smaller than 3 in the `transcript` table. "
   ]
  },
  {
   "cell_type": "code",
   "execution_count": 44,
   "metadata": {},
   "outputs": [
    {
     "name": "stdout",
     "output_type": "stream",
     "text": [
      " * sqlite:///cssys.db\n",
      "Done.\n"
     ]
    },
    {
     "data": {
      "text/html": [
       "<table>\n",
       "    <thead>\n",
       "        <tr>\n",
       "            <th>studentid</th>\n",
       "            <th>courseid</th>\n",
       "            <th>mark</th>\n",
       "            <th>semester</th>\n",
       "            <th>credit</th>\n",
       "        </tr>\n",
       "    </thead>\n",
       "    <tbody>\n",
       "        <tr>\n",
       "            <td>1001</td>\n",
       "            <td>110</td>\n",
       "            <td>3.5</td>\n",
       "            <td>202201</td>\n",
       "            <td>3</td>\n",
       "        </tr>\n",
       "        <tr>\n",
       "            <td>1001</td>\n",
       "            <td>301</td>\n",
       "            <td>3.4</td>\n",
       "            <td>202202</td>\n",
       "            <td>4</td>\n",
       "        </tr>\n",
       "        <tr>\n",
       "            <td>1002</td>\n",
       "            <td>110</td>\n",
       "            <td>3.2</td>\n",
       "            <td>202301</td>\n",
       "            <td>3</td>\n",
       "        </tr>\n",
       "        <tr>\n",
       "            <td>1002</td>\n",
       "            <td>301</td>\n",
       "            <td>3.1</td>\n",
       "            <td>202302</td>\n",
       "            <td>4</td>\n",
       "        </tr>\n",
       "        <tr>\n",
       "            <td>1003</td>\n",
       "            <td>120</td>\n",
       "            <td>3.5</td>\n",
       "            <td>202301</td>\n",
       "            <td>4</td>\n",
       "        </tr>\n",
       "        <tr>\n",
       "            <td>1003</td>\n",
       "            <td>354</td>\n",
       "            <td>4.0</td>\n",
       "            <td>202303</td>\n",
       "            <td>3</td>\n",
       "        </tr>\n",
       "        <tr>\n",
       "            <td>1003</td>\n",
       "            <td>360</td>\n",
       "            <td>3.5</td>\n",
       "            <td>202202</td>\n",
       "            <td>3</td>\n",
       "        </tr>\n",
       "    </tbody>\n",
       "</table>"
      ],
      "text/plain": [
       "[(1001, 110, 3.5, 202201, 3),\n",
       " (1001, 301, 3.4, 202202, 4),\n",
       " (1002, 110, 3.2, 202301, 3),\n",
       " (1002, 301, 3.1, 202302, 4),\n",
       " (1003, 120, 3.5, 202301, 4),\n",
       " (1003, 354, 4.0, 202303, 3),\n",
       " (1003, 360, 3.5, 202202, 3)]"
      ]
     },
     "execution_count": 44,
     "metadata": {},
     "output_type": "execute_result"
    }
   ],
   "source": [
    "%%sql\n",
    "SELECT * FROM transcript WHERE mark > 3 AND credit >= 3;"
   ]
  },
  {
   "cell_type": "markdown",
   "metadata": {},
   "source": [
    "4.4 (1 point) Please write a SQL query to show `studentid`, `courseid` and `mark` of all rows in the `transcript` table. "
   ]
  },
  {
   "cell_type": "code",
   "execution_count": 45,
   "metadata": {},
   "outputs": [
    {
     "name": "stdout",
     "output_type": "stream",
     "text": [
      " * sqlite:///cssys.db\n",
      "Done.\n"
     ]
    },
    {
     "data": {
      "text/html": [
       "<table>\n",
       "    <thead>\n",
       "        <tr>\n",
       "            <th>studentid</th>\n",
       "            <th>courseid</th>\n",
       "            <th>mark</th>\n",
       "        </tr>\n",
       "    </thead>\n",
       "    <tbody>\n",
       "        <tr>\n",
       "            <td>1001</td>\n",
       "            <td>100</td>\n",
       "            <td>3.0</td>\n",
       "        </tr>\n",
       "        <tr>\n",
       "            <td>1001</td>\n",
       "            <td>110</td>\n",
       "            <td>3.5</td>\n",
       "        </tr>\n",
       "        <tr>\n",
       "            <td>1001</td>\n",
       "            <td>120</td>\n",
       "            <td>2.7</td>\n",
       "        </tr>\n",
       "        <tr>\n",
       "            <td>1001</td>\n",
       "            <td>301</td>\n",
       "            <td>3.4</td>\n",
       "        </tr>\n",
       "        <tr>\n",
       "            <td>1002</td>\n",
       "            <td>100</td>\n",
       "            <td>3.0</td>\n",
       "        </tr>\n",
       "        <tr>\n",
       "            <td>1002</td>\n",
       "            <td>110</td>\n",
       "            <td>3.2</td>\n",
       "        </tr>\n",
       "        <tr>\n",
       "            <td>1002</td>\n",
       "            <td>301</td>\n",
       "            <td>3.1</td>\n",
       "        </tr>\n",
       "        <tr>\n",
       "            <td>1003</td>\n",
       "            <td>100</td>\n",
       "            <td>2.5</td>\n",
       "        </tr>\n",
       "        <tr>\n",
       "            <td>1003</td>\n",
       "            <td>120</td>\n",
       "            <td>3.5</td>\n",
       "        </tr>\n",
       "        <tr>\n",
       "            <td>1003</td>\n",
       "            <td>301</td>\n",
       "            <td>2.8</td>\n",
       "        </tr>\n",
       "        <tr>\n",
       "            <td>1003</td>\n",
       "            <td>354</td>\n",
       "            <td>4.0</td>\n",
       "        </tr>\n",
       "        <tr>\n",
       "            <td>1003</td>\n",
       "            <td>360</td>\n",
       "            <td>3.5</td>\n",
       "        </tr>\n",
       "    </tbody>\n",
       "</table>"
      ],
      "text/plain": [
       "[(1001, 100, 3.0),\n",
       " (1001, 110, 3.5),\n",
       " (1001, 120, 2.7),\n",
       " (1001, 301, 3.4),\n",
       " (1002, 100, 3.0),\n",
       " (1002, 110, 3.2),\n",
       " (1002, 301, 3.1),\n",
       " (1003, 100, 2.5),\n",
       " (1003, 120, 3.5),\n",
       " (1003, 301, 2.8),\n",
       " (1003, 354, 4.0),\n",
       " (1003, 360, 3.5)]"
      ]
     },
     "execution_count": 45,
     "metadata": {},
     "output_type": "execute_result"
    }
   ],
   "source": [
    "%%sql\n",
    "SELECT studentid, courseid, mark FROM transcript;"
   ]
  },
  {
   "cell_type": "markdown",
   "metadata": {},
   "source": [
    "4.5 (1 point) Please write a SQL query to show `studentid`, `courseid` and `mark` of all rows in the `transcript` table whose semester value is `202302`."
   ]
  },
  {
   "cell_type": "code",
   "execution_count": 46,
   "metadata": {},
   "outputs": [
    {
     "name": "stdout",
     "output_type": "stream",
     "text": [
      " * sqlite:///cssys.db\n",
      "Done.\n"
     ]
    },
    {
     "data": {
      "text/html": [
       "<table>\n",
       "    <thead>\n",
       "        <tr>\n",
       "            <th>studentid</th>\n",
       "            <th>courseid</th>\n",
       "            <th>mark</th>\n",
       "        </tr>\n",
       "    </thead>\n",
       "    <tbody>\n",
       "        <tr>\n",
       "            <td>1002</td>\n",
       "            <td>301</td>\n",
       "            <td>3.1</td>\n",
       "        </tr>\n",
       "        <tr>\n",
       "            <td>1003</td>\n",
       "            <td>301</td>\n",
       "            <td>2.8</td>\n",
       "        </tr>\n",
       "    </tbody>\n",
       "</table>"
      ],
      "text/plain": [
       "[(1002, 301, 3.1), (1003, 301, 2.8)]"
      ]
     },
     "execution_count": 46,
     "metadata": {},
     "output_type": "execute_result"
    }
   ],
   "source": [
    "%%sql\n",
    "SELECT studentid, courseid, mark FROM transcript WHERE semester = 202302;"
   ]
  },
  {
   "cell_type": "markdown",
   "metadata": {},
   "source": [
    "4.6 (1 point) Please write a SQL query to show _distinct_ `courseid` of all rows in the `transcript` table."
   ]
  },
  {
   "cell_type": "code",
   "execution_count": 47,
   "metadata": {},
   "outputs": [
    {
     "name": "stdout",
     "output_type": "stream",
     "text": [
      " * sqlite:///cssys.db\n",
      "Done.\n"
     ]
    },
    {
     "data": {
      "text/html": [
       "<table>\n",
       "    <thead>\n",
       "        <tr>\n",
       "            <th>courseid</th>\n",
       "        </tr>\n",
       "    </thead>\n",
       "    <tbody>\n",
       "        <tr>\n",
       "            <td>100</td>\n",
       "        </tr>\n",
       "        <tr>\n",
       "            <td>110</td>\n",
       "        </tr>\n",
       "        <tr>\n",
       "            <td>120</td>\n",
       "        </tr>\n",
       "        <tr>\n",
       "            <td>301</td>\n",
       "        </tr>\n",
       "        <tr>\n",
       "            <td>354</td>\n",
       "        </tr>\n",
       "        <tr>\n",
       "            <td>360</td>\n",
       "        </tr>\n",
       "    </tbody>\n",
       "</table>"
      ],
      "text/plain": [
       "[(100,), (110,), (120,), (301,), (354,), (360,)]"
      ]
     },
     "execution_count": 47,
     "metadata": {},
     "output_type": "execute_result"
    }
   ],
   "source": [
    "%%sql\n",
    "SELECT DISTINCT courseid FROM transcript;"
   ]
  },
  {
   "cell_type": "markdown",
   "metadata": {},
   "source": [
    "4.7 (1 point) Please write a SQL query to show the `firstname` and `lastname` and `gpa` from `students` table and sort it based on `gpa`."
   ]
  },
  {
   "cell_type": "code",
   "execution_count": 48,
   "metadata": {},
   "outputs": [
    {
     "name": "stdout",
     "output_type": "stream",
     "text": [
      " * sqlite:///cssys.db\n",
      "Done.\n"
     ]
    },
    {
     "data": {
      "text/html": [
       "<table>\n",
       "    <thead>\n",
       "        <tr>\n",
       "            <th>firstname</th>\n",
       "            <th>lastname</th>\n",
       "            <th>gpa</th>\n",
       "        </tr>\n",
       "    </thead>\n",
       "    <tbody>\n",
       "        <tr>\n",
       "            <td>bob</td>\n",
       "            <td>hal</td>\n",
       "            <td>2.0</td>\n",
       "        </tr>\n",
       "        <tr>\n",
       "            <td>adam</td>\n",
       "            <td>smith</td>\n",
       "            <td>3.1</td>\n",
       "        </tr>\n",
       "        <tr>\n",
       "            <td>alice</td>\n",
       "            <td>frank</td>\n",
       "            <td>3.4</td>\n",
       "        </tr>\n",
       "    </tbody>\n",
       "</table>"
      ],
      "text/plain": [
       "[('bob', 'hal', 2.0), ('adam', 'smith', 3.1), ('alice', 'frank', 3.4)]"
      ]
     },
     "execution_count": 48,
     "metadata": {},
     "output_type": "execute_result"
    }
   ],
   "source": [
    "%%sql\n",
    "SELECT firstname, lastname, gpa FROM students ORDER BY gpa;"
   ]
  },
  {
   "cell_type": "markdown",
   "metadata": {},
   "source": [
    "4.8 (3 points) Please write a SQL query to compute `lettergrade` of each row in the `transcript` table, and show `studentid`, `courseid` and `lettergrade` of all rows in the `transcript` table. `lettergrade` is computed as follows: \n",
    "\n",
    "* If `mark` >= 3.5, then `lettergrade` = \"A\"\n",
    "* If 3 <= `mark` < 3.5, then `lettergrade` = \"B\"\n",
    "* If 2.5 <= `mark` < 3, then `lettergrade` = \"C\"\n",
    "* If 2 <= `mark` < 2.5, then `lettergrade` = \"D\"\n",
    "* If `mark` < 2, then `lettergrade` = \"F\""
   ]
  },
  {
   "cell_type": "code",
   "execution_count": 49,
   "metadata": {},
   "outputs": [
    {
     "name": "stdout",
     "output_type": "stream",
     "text": [
      " * sqlite:///cssys.db\n",
      "Done.\n"
     ]
    },
    {
     "data": {
      "text/html": [
       "<table>\n",
       "    <thead>\n",
       "        <tr>\n",
       "            <th>studentid</th>\n",
       "            <th>courseid</th>\n",
       "            <th>lettergrade</th>\n",
       "        </tr>\n",
       "    </thead>\n",
       "    <tbody>\n",
       "        <tr>\n",
       "            <td>1001</td>\n",
       "            <td>100</td>\n",
       "            <td>B</td>\n",
       "        </tr>\n",
       "        <tr>\n",
       "            <td>1001</td>\n",
       "            <td>110</td>\n",
       "            <td>A</td>\n",
       "        </tr>\n",
       "        <tr>\n",
       "            <td>1001</td>\n",
       "            <td>120</td>\n",
       "            <td>C</td>\n",
       "        </tr>\n",
       "        <tr>\n",
       "            <td>1001</td>\n",
       "            <td>301</td>\n",
       "            <td>B</td>\n",
       "        </tr>\n",
       "        <tr>\n",
       "            <td>1002</td>\n",
       "            <td>100</td>\n",
       "            <td>B</td>\n",
       "        </tr>\n",
       "        <tr>\n",
       "            <td>1002</td>\n",
       "            <td>110</td>\n",
       "            <td>B</td>\n",
       "        </tr>\n",
       "        <tr>\n",
       "            <td>1002</td>\n",
       "            <td>301</td>\n",
       "            <td>B</td>\n",
       "        </tr>\n",
       "        <tr>\n",
       "            <td>1003</td>\n",
       "            <td>100</td>\n",
       "            <td>C</td>\n",
       "        </tr>\n",
       "        <tr>\n",
       "            <td>1003</td>\n",
       "            <td>120</td>\n",
       "            <td>A</td>\n",
       "        </tr>\n",
       "        <tr>\n",
       "            <td>1003</td>\n",
       "            <td>301</td>\n",
       "            <td>C</td>\n",
       "        </tr>\n",
       "        <tr>\n",
       "            <td>1003</td>\n",
       "            <td>354</td>\n",
       "            <td>A</td>\n",
       "        </tr>\n",
       "        <tr>\n",
       "            <td>1003</td>\n",
       "            <td>360</td>\n",
       "            <td>A</td>\n",
       "        </tr>\n",
       "    </tbody>\n",
       "</table>"
      ],
      "text/plain": [
       "[(1001, 100, 'B'),\n",
       " (1001, 110, 'A'),\n",
       " (1001, 120, 'C'),\n",
       " (1001, 301, 'B'),\n",
       " (1002, 100, 'B'),\n",
       " (1002, 110, 'B'),\n",
       " (1002, 301, 'B'),\n",
       " (1003, 100, 'C'),\n",
       " (1003, 120, 'A'),\n",
       " (1003, 301, 'C'),\n",
       " (1003, 354, 'A'),\n",
       " (1003, 360, 'A')]"
      ]
     },
     "execution_count": 49,
     "metadata": {},
     "output_type": "execute_result"
    }
   ],
   "source": [
    "%%sql\n",
    "SELECT studentid, courseid,\n",
    "    CASE\n",
    "        WHEN mark >= 3.5 THEN 'A'\n",
    "        WHEN mark >= 3 AND mark < 3.5 THEN 'B'\n",
    "        WHEN mark >= 2.5 AND mark < 3 THEN 'C'\n",
    "        WHEN mark >= 2 AND mark < 2.5 THEN 'D'\n",
    "        ELSE 'F'\n",
    "    END AS lettergrade\n",
    "FROM transcript;\n"
   ]
  },
  {
   "cell_type": "markdown",
   "metadata": {},
   "source": [
    "## Q5: Query a database (11 points)"
   ]
  },
  {
   "cell_type": "markdown",
   "metadata": {},
   "source": [
    "Suppose you work at a bank as a data analyst. Your main job is to analyze the data stored in their database to find out information that can help the business. Please download the database at this [link](bank.db)."
   ]
  },
  {
   "cell_type": "markdown",
   "metadata": {},
   "source": [
    "The database has six tables. The following shows their schemas. Primary key attributes are underlined and foreign keys are noted in superscript.\n",
    " - Customer = {<span style=\"text-decoration:underline\">customerID</span>, firstName, lastName, income, birthDate}\n",
    " - Account = {<span style=\"text-decoration:underline\">accNumber</span>, type, balance, branchNumber<sup>FK-Branch</sup>}\n",
    " - Owns = {<span style=\"text-decoration:underline\">customerID</span><sup>FK-Customer</sup>, <span style=\"text-decoration:underline\">accNumber</span><sup>FK-Account</sup>}\n",
    " - Transactions = {<span style=\"text-decoration:underline\">transNumber</span>, <span style=\"text-decoration:underline\">accNumber</span><sup>FK-Account</sup>, amount}\n",
    " - Employee = {<span style=\"text-decoration:underline\">sin</span>, firstName, lastName, salary, branchNumber<sup>FK-Branch</sup>}\n",
    " - Branch = {<span style=\"text-decoration:underline\">branchNumber</span>, branchName, managerSIN<sup>FK-Employee</sup>, budget}"
   ]
  },
  {
   "cell_type": "markdown",
   "metadata": {},
   "source": [
    "In question 5.1 and 5.2 below, please write down the relational algebra expressions for the described query. For this question, we use relational algebra on sets.\n",
    "To write a relational algebra query in a cell, the cell should be a [Markdown cell](https://jupyter-notebook.readthedocs.io/en/stable/examples/Notebook/Working%20With%20Markdown%20Cells.html). You can use [LaTeX equations](https://jupyter-notebook.readthedocs.io/en/stable/examples/Notebook/Working%20With%20Markdown%20Cells.html#LaTeX-equations) in a markdown cell for required algebraic notation. Double click on this cell to see the souce code for each operator. Here is a list of the main operators:\n",
    "\n",
    "* Selection ($\\sigma$)\n",
    "* Projection ($\\pi$)\n",
    "* Union ($\\cup$)\n",
    "* Intersect ($\\cap$)\n",
    "* Set Difference ($-$) \n",
    "* Cross Product ($\\times$)\n",
    "* Rename ($\\rho$)\n",
    "* Join ($\\bowtie$)\n",
    "* Conjunction ($\\wedge$)\n",
    "* Disjunction ($\\vee$)\n",
    "* Greater Than or Equal To ($\\geq$)\n",
    "* Less Than or Equal To ($\\leq$)\n",
    "* Semijin ($\\ltimes$)\n",
    "* Antijoin ($\\bar{\\ltimes}$)"
   ]
  },
  {
   "cell_type": "markdown",
   "metadata": {},
   "source": [
    " **5.1** (2 points) Find out names of the bank branches and first name and last name of their managers."
   ]
  },
  {
   "cell_type": "markdown",
   "metadata": {},
   "source": [
    "\n",
    "\n",
    "\n",
    "\n",
    "$\n",
    "\\pi_{branchName, firstName, lastName} (Branch \\bowtie_{Branch.managerSIN = Employee.sin} Employee)\n",
    "$\n",
    "\n",
    "\n"
   ]
  },
  {
   "cell_type": "markdown",
   "metadata": {},
   "source": [
    " **5.2** (2 points) Show account number, account type, account balance, and transaction amount of the accounts with balance higher than 100,000 and transaction amounts higher than 15000."
   ]
  },
  {
   "cell_type": "markdown",
   "metadata": {},
   "source": [
    "\n",
    "\n",
    "\n",
    "\n",
    "$\n",
    "\\pi_{accNumber, type, balance, amount} (\\sigma_{balance > 100000 \\wedge amount > 15000} (Account \\bowtie Transactions))\n",
    "$\n"
   ]
  },
  {
   "cell_type": "markdown",
   "metadata": {},
   "source": [
    "Please run the next cell after downloading the database, before you start next part."
   ]
  },
  {
   "cell_type": "code",
   "execution_count": 4,
   "metadata": {},
   "outputs": [],
   "source": [
    "%sql sqlite:///bank.db"
   ]
  },
  {
   "cell_type": "markdown",
   "metadata": {},
   "source": [
    "Write SQL queries to return the data specified in the following questions."
   ]
  },
  {
   "cell_type": "markdown",
   "metadata": {},
   "source": [
    "5.3 (1 point) Suppose you talked with a customer, you remember their name started with 'M', included an 'r' and finished with an 'a', but you are not sure about the complete spelling. Please write a SQL query to show the first name and last name of the customers with such first name."
   ]
  },
  {
   "cell_type": "code",
   "execution_count": 6,
   "metadata": {},
   "outputs": [
    {
     "name": "stdout",
     "output_type": "stream",
     "text": [
      " * sqlite:///bank.db\n",
      "   sqlite:///cssys.db\n",
      "Done.\n"
     ]
    },
    {
     "data": {
      "text/html": [
       "<table>\n",
       "    <thead>\n",
       "        <tr>\n",
       "            <th>firstName</th>\n",
       "            <th>lastName</th>\n",
       "        </tr>\n",
       "    </thead>\n",
       "    <tbody>\n",
       "        <tr>\n",
       "            <td>Martha</td>\n",
       "            <td>Young</td>\n",
       "        </tr>\n",
       "        <tr>\n",
       "            <td>Martha</td>\n",
       "            <td>Butler</td>\n",
       "        </tr>\n",
       "        <tr>\n",
       "            <td>Maria</td>\n",
       "            <td>Morgan</td>\n",
       "        </tr>\n",
       "        <tr>\n",
       "            <td>Maria</td>\n",
       "            <td>Young</td>\n",
       "        </tr>\n",
       "    </tbody>\n",
       "</table>"
      ],
      "text/plain": [
       "[('Martha', 'Young'),\n",
       " ('Martha', 'Butler'),\n",
       " ('Maria', 'Morgan'),\n",
       " ('Maria', 'Young')]"
      ]
     },
     "execution_count": 6,
     "metadata": {},
     "output_type": "execute_result"
    }
   ],
   "source": [
    "%%sql\n",
    "SELECT firstName, lastName\n",
    "FROM Customer\n",
    "WHERE firstName LIKE 'M%r%a';\n"
   ]
  },
  {
   "cell_type": "markdown",
   "metadata": {},
   "source": [
    "5.4 (1 point) Please write a SQL query to show names of the branches and first name and last name of their managers."
   ]
  },
  {
   "cell_type": "code",
   "execution_count": 7,
   "metadata": {},
   "outputs": [
    {
     "name": "stdout",
     "output_type": "stream",
     "text": [
      " * sqlite:///bank.db\n",
      "   sqlite:///cssys.db\n",
      "Done.\n"
     ]
    },
    {
     "data": {
      "text/html": [
       "<table>\n",
       "    <thead>\n",
       "        <tr>\n",
       "            <th>branchName</th>\n",
       "            <th>firstName</th>\n",
       "            <th>lastName</th>\n",
       "        </tr>\n",
       "    </thead>\n",
       "    <tbody>\n",
       "        <tr>\n",
       "            <td>London</td>\n",
       "            <td>Phillip</td>\n",
       "            <td>Edwards</td>\n",
       "        </tr>\n",
       "        <tr>\n",
       "            <td>Latveria</td>\n",
       "            <td>Victor</td>\n",
       "            <td>Doom</td>\n",
       "        </tr>\n",
       "        <tr>\n",
       "            <td>New York</td>\n",
       "            <td>Victor</td>\n",
       "            <td>Doom</td>\n",
       "        </tr>\n",
       "        <tr>\n",
       "            <td>Berlin</td>\n",
       "            <td>Deborah</td>\n",
       "            <td>Hernandez</td>\n",
       "        </tr>\n",
       "        <tr>\n",
       "            <td>Moscow</td>\n",
       "            <td>Cheryl</td>\n",
       "            <td>Thompson</td>\n",
       "        </tr>\n",
       "    </tbody>\n",
       "</table>"
      ],
      "text/plain": [
       "[('London', 'Phillip', 'Edwards'),\n",
       " ('Latveria', 'Victor', 'Doom'),\n",
       " ('New York', 'Victor', 'Doom'),\n",
       " ('Berlin', 'Deborah', 'Hernandez'),\n",
       " ('Moscow', 'Cheryl', 'Thompson')]"
      ]
     },
     "execution_count": 7,
     "metadata": {},
     "output_type": "execute_result"
    }
   ],
   "source": [
    "%%sql\n",
    "SELECT Branch.branchName, Employee.firstName, Employee.lastName\n",
    "FROM Branch\n",
    "JOIN Employee ON Branch.managerSIN = Employee.sin;\n"
   ]
  },
  {
   "cell_type": "markdown",
   "metadata": {},
   "source": [
    "5.6 (1 point) Please write a SQL query to find the SIN, first name, and last name of employees who share the same name with one or more customers."
   ]
  },
  {
   "cell_type": "code",
   "execution_count": 8,
   "metadata": {},
   "outputs": [
    {
     "name": "stdout",
     "output_type": "stream",
     "text": [
      " * sqlite:///bank.db\n",
      "   sqlite:///cssys.db\n",
      "Done.\n"
     ]
    },
    {
     "data": {
      "text/html": [
       "<table>\n",
       "    <thead>\n",
       "        <tr>\n",
       "            <th>sin</th>\n",
       "            <th>firstName</th>\n",
       "            <th>lastName</th>\n",
       "        </tr>\n",
       "    </thead>\n",
       "    <tbody>\n",
       "        <tr>\n",
       "            <td>14295</td>\n",
       "            <td>Anne</td>\n",
       "            <td>Ramirez</td>\n",
       "        </tr>\n",
       "        <tr>\n",
       "            <td>27004</td>\n",
       "            <td>Steven</td>\n",
       "            <td>Johnson</td>\n",
       "        </tr>\n",
       "        <tr>\n",
       "            <td>28453</td>\n",
       "            <td>Margaret</td>\n",
       "            <td>White</td>\n",
       "        </tr>\n",
       "        <tr>\n",
       "            <td>29474</td>\n",
       "            <td>Amanda</td>\n",
       "            <td>White</td>\n",
       "        </tr>\n",
       "        <tr>\n",
       "            <td>30807</td>\n",
       "            <td>Roy</td>\n",
       "            <td>Morris</td>\n",
       "        </tr>\n",
       "        <tr>\n",
       "            <td>31964</td>\n",
       "            <td>Victor</td>\n",
       "            <td>Doom</td>\n",
       "        </tr>\n",
       "        <tr>\n",
       "            <td>38351</td>\n",
       "            <td>Victor</td>\n",
       "            <td>Perez</td>\n",
       "        </tr>\n",
       "        <tr>\n",
       "            <td>41545</td>\n",
       "            <td>Terry</td>\n",
       "            <td>Bailey</td>\n",
       "        </tr>\n",
       "        <tr>\n",
       "            <td>44459</td>\n",
       "            <td>Gerald</td>\n",
       "            <td>Watson</td>\n",
       "        </tr>\n",
       "        <tr>\n",
       "            <td>51850</td>\n",
       "            <td>Victor</td>\n",
       "            <td>Doom</td>\n",
       "        </tr>\n",
       "        <tr>\n",
       "            <td>55146</td>\n",
       "            <td>Mark</td>\n",
       "            <td>Jackson</td>\n",
       "        </tr>\n",
       "        <tr>\n",
       "            <td>55194</td>\n",
       "            <td>Kathleen</td>\n",
       "            <td>Morris</td>\n",
       "        </tr>\n",
       "        <tr>\n",
       "            <td>55700</td>\n",
       "            <td>Phillip</td>\n",
       "            <td>Edwards</td>\n",
       "        </tr>\n",
       "        <tr>\n",
       "            <td>57796</td>\n",
       "            <td>Ernest</td>\n",
       "            <td>Adams</td>\n",
       "        </tr>\n",
       "        <tr>\n",
       "            <td>63772</td>\n",
       "            <td>Mary</td>\n",
       "            <td>Powell</td>\n",
       "        </tr>\n",
       "        <tr>\n",
       "            <td>73386</td>\n",
       "            <td>Arthur</td>\n",
       "            <td>Jones</td>\n",
       "        </tr>\n",
       "        <tr>\n",
       "            <td>77100</td>\n",
       "            <td>Laura</td>\n",
       "            <td>Alexander</td>\n",
       "        </tr>\n",
       "        <tr>\n",
       "            <td>81108</td>\n",
       "            <td>Willie</td>\n",
       "            <td>Jones</td>\n",
       "        </tr>\n",
       "        <tr>\n",
       "            <td>81263</td>\n",
       "            <td>Anna</td>\n",
       "            <td>Cooper</td>\n",
       "        </tr>\n",
       "        <tr>\n",
       "            <td>82244</td>\n",
       "            <td>Douglas</td>\n",
       "            <td>Wright</td>\n",
       "        </tr>\n",
       "        <tr>\n",
       "            <td>82333</td>\n",
       "            <td>Charles</td>\n",
       "            <td>Smith</td>\n",
       "        </tr>\n",
       "        <tr>\n",
       "            <td>82464</td>\n",
       "            <td>Susan</td>\n",
       "            <td>Hayes</td>\n",
       "        </tr>\n",
       "        <tr>\n",
       "            <td>85587</td>\n",
       "            <td>Justin</td>\n",
       "            <td>Mitchell</td>\n",
       "        </tr>\n",
       "        <tr>\n",
       "            <td>90667</td>\n",
       "            <td>Carl</td>\n",
       "            <td>Murphy</td>\n",
       "        </tr>\n",
       "        <tr>\n",
       "            <td>91712</td>\n",
       "            <td>Victor</td>\n",
       "            <td>Doom</td>\n",
       "        </tr>\n",
       "        <tr>\n",
       "            <td>92389</td>\n",
       "            <td>Amy</td>\n",
       "            <td>Ross</td>\n",
       "        </tr>\n",
       "        <tr>\n",
       "            <td>96443</td>\n",
       "            <td>Ernest</td>\n",
       "            <td>Perez</td>\n",
       "        </tr>\n",
       "        <tr>\n",
       "            <td>97216</td>\n",
       "            <td>Dennis</td>\n",
       "            <td>Collins</td>\n",
       "        </tr>\n",
       "        <tr>\n",
       "            <td>99537</td>\n",
       "            <td>Deborah</td>\n",
       "            <td>Hernandez</td>\n",
       "        </tr>\n",
       "    </tbody>\n",
       "</table>"
      ],
      "text/plain": [
       "[(14295, 'Anne', 'Ramirez'),\n",
       " (27004, 'Steven', 'Johnson'),\n",
       " (28453, 'Margaret', 'White'),\n",
       " (29474, 'Amanda', 'White'),\n",
       " (30807, 'Roy', 'Morris'),\n",
       " (31964, 'Victor', 'Doom'),\n",
       " (38351, 'Victor', 'Perez'),\n",
       " (41545, 'Terry', 'Bailey'),\n",
       " (44459, 'Gerald', 'Watson'),\n",
       " (51850, 'Victor', 'Doom'),\n",
       " (55146, 'Mark', 'Jackson'),\n",
       " (55194, 'Kathleen', 'Morris'),\n",
       " (55700, 'Phillip', 'Edwards'),\n",
       " (57796, 'Ernest', 'Adams'),\n",
       " (63772, 'Mary', 'Powell'),\n",
       " (73386, 'Arthur', 'Jones'),\n",
       " (77100, 'Laura', 'Alexander'),\n",
       " (81108, 'Willie', 'Jones'),\n",
       " (81263, 'Anna', 'Cooper'),\n",
       " (82244, 'Douglas', 'Wright'),\n",
       " (82333, 'Charles', 'Smith'),\n",
       " (82464, 'Susan', 'Hayes'),\n",
       " (85587, 'Justin', 'Mitchell'),\n",
       " (90667, 'Carl', 'Murphy'),\n",
       " (91712, 'Victor', 'Doom'),\n",
       " (92389, 'Amy', 'Ross'),\n",
       " (96443, 'Ernest', 'Perez'),\n",
       " (97216, 'Dennis', 'Collins'),\n",
       " (99537, 'Deborah', 'Hernandez')]"
      ]
     },
     "execution_count": 8,
     "metadata": {},
     "output_type": "execute_result"
    }
   ],
   "source": [
    "%%sql\n",
    "SELECT Employee.sin, Employee.firstName, Employee.lastName\n",
    "FROM Employee\n",
    "JOIN Customer ON Employee.firstName = Customer.firstName \n",
    "              AND Employee.lastName = Customer.lastName;\n"
   ]
  },
  {
   "cell_type": "markdown",
   "metadata": {},
   "source": [
    "5.7 (2 points) Please write a SQL query to show account number, account type, account balance, and transaction amount of the accounts with balance higher than 100,000 and transaction amouns higher than 15000, starting with the accounts with the highest transaction amount and highest account balance. "
   ]
  },
  {
   "cell_type": "code",
   "execution_count": 9,
   "metadata": {},
   "outputs": [
    {
     "name": "stdout",
     "output_type": "stream",
     "text": [
      " * sqlite:///bank.db\n",
      "   sqlite:///cssys.db\n",
      "Done.\n"
     ]
    },
    {
     "data": {
      "text/html": [
       "<table>\n",
       "    <thead>\n",
       "        <tr>\n",
       "            <th>accNumber</th>\n",
       "            <th>type</th>\n",
       "            <th>balance</th>\n",
       "            <th>amount</th>\n",
       "        </tr>\n",
       "    </thead>\n",
       "    <tbody>\n",
       "        <tr>\n",
       "            <td>9</td>\n",
       "            <td>SAV</td>\n",
       "            <td>132271.23</td>\n",
       "            <td>114869.79</td>\n",
       "        </tr>\n",
       "        <tr>\n",
       "            <td>8</td>\n",
       "            <td>BUS</td>\n",
       "            <td>121267.54</td>\n",
       "            <td>114680.63</td>\n",
       "        </tr>\n",
       "        <tr>\n",
       "            <td>31</td>\n",
       "            <td>CHQ</td>\n",
       "            <td>111209.89</td>\n",
       "            <td>110249.28</td>\n",
       "        </tr>\n",
       "        <tr>\n",
       "            <td>1</td>\n",
       "            <td>SAV</td>\n",
       "            <td>118231.13</td>\n",
       "            <td>109587.15</td>\n",
       "        </tr>\n",
       "        <tr>\n",
       "            <td>25</td>\n",
       "            <td>SAV</td>\n",
       "            <td>105997.07</td>\n",
       "            <td>109068.54</td>\n",
       "        </tr>\n",
       "        <tr>\n",
       "            <td>13</td>\n",
       "            <td>CHQ</td>\n",
       "            <td>112505.84</td>\n",
       "            <td>108440.2</td>\n",
       "        </tr>\n",
       "        <tr>\n",
       "            <td>20</td>\n",
       "            <td>CHQ</td>\n",
       "            <td>107270.59</td>\n",
       "            <td>108278.46</td>\n",
       "        </tr>\n",
       "        <tr>\n",
       "            <td>4</td>\n",
       "            <td>BUS</td>\n",
       "            <td>106503.6</td>\n",
       "            <td>104550.76</td>\n",
       "        </tr>\n",
       "        <tr>\n",
       "            <td>26</td>\n",
       "            <td>SAV</td>\n",
       "            <td>112046.36</td>\n",
       "            <td>104346.46</td>\n",
       "        </tr>\n",
       "        <tr>\n",
       "            <td>6</td>\n",
       "            <td>CHQ</td>\n",
       "            <td>107309.23</td>\n",
       "            <td>104247.4</td>\n",
       "        </tr>\n",
       "        <tr>\n",
       "            <td>18</td>\n",
       "            <td>BUS</td>\n",
       "            <td>103579.69</td>\n",
       "            <td>103802.18</td>\n",
       "        </tr>\n",
       "        <tr>\n",
       "            <td>17</td>\n",
       "            <td>CHQ</td>\n",
       "            <td>103356.07</td>\n",
       "            <td>103431.57</td>\n",
       "        </tr>\n",
       "        <tr>\n",
       "            <td>28</td>\n",
       "            <td>CHQ</td>\n",
       "            <td>112617.97</td>\n",
       "            <td>102680.84</td>\n",
       "        </tr>\n",
       "        <tr>\n",
       "            <td>5</td>\n",
       "            <td>CHQ</td>\n",
       "            <td>105696.04</td>\n",
       "            <td>101945.4</td>\n",
       "        </tr>\n",
       "        <tr>\n",
       "            <td>2</td>\n",
       "            <td>CHQ</td>\n",
       "            <td>100808.03</td>\n",
       "            <td>100002.19</td>\n",
       "        </tr>\n",
       "        <tr>\n",
       "            <td>81</td>\n",
       "            <td>CHQ</td>\n",
       "            <td>107129.47</td>\n",
       "            <td>99712.38</td>\n",
       "        </tr>\n",
       "        <tr>\n",
       "            <td>227</td>\n",
       "            <td>CHQ</td>\n",
       "            <td>109916.78</td>\n",
       "            <td>98987.65</td>\n",
       "        </tr>\n",
       "        <tr>\n",
       "            <td>218</td>\n",
       "            <td>BUS</td>\n",
       "            <td>103650.37</td>\n",
       "            <td>98757.79</td>\n",
       "        </tr>\n",
       "        <tr>\n",
       "            <td>119</td>\n",
       "            <td>CHQ</td>\n",
       "            <td>113473.16</td>\n",
       "            <td>98480.27</td>\n",
       "        </tr>\n",
       "        <tr>\n",
       "            <td>147</td>\n",
       "            <td>CHQ</td>\n",
       "            <td>114094.94</td>\n",
       "            <td>98155.28</td>\n",
       "        </tr>\n",
       "        <tr>\n",
       "            <td>121</td>\n",
       "            <td>SAV</td>\n",
       "            <td>103512.78</td>\n",
       "            <td>98101.36</td>\n",
       "        </tr>\n",
       "        <tr>\n",
       "            <td>187</td>\n",
       "            <td>CHQ</td>\n",
       "            <td>103328.66</td>\n",
       "            <td>97629.4</td>\n",
       "        </tr>\n",
       "        <tr>\n",
       "            <td>165</td>\n",
       "            <td>CHQ</td>\n",
       "            <td>108042.83</td>\n",
       "            <td>96796.3</td>\n",
       "        </tr>\n",
       "        <tr>\n",
       "            <td>138</td>\n",
       "            <td>BUS</td>\n",
       "            <td>104044.22</td>\n",
       "            <td>96658.35</td>\n",
       "        </tr>\n",
       "        <tr>\n",
       "            <td>176</td>\n",
       "            <td>CHQ</td>\n",
       "            <td>113048.79</td>\n",
       "            <td>96473.74</td>\n",
       "        </tr>\n",
       "        <tr>\n",
       "            <td>282</td>\n",
       "            <td>SAV</td>\n",
       "            <td>101063.84</td>\n",
       "            <td>96430.68</td>\n",
       "        </tr>\n",
       "        <tr>\n",
       "            <td>135</td>\n",
       "            <td>SAV</td>\n",
       "            <td>105420.87</td>\n",
       "            <td>95889.6</td>\n",
       "        </tr>\n",
       "        <tr>\n",
       "            <td>198</td>\n",
       "            <td>CHQ</td>\n",
       "            <td>102686.76</td>\n",
       "            <td>95539.37</td>\n",
       "        </tr>\n",
       "        <tr>\n",
       "            <td>272</td>\n",
       "            <td>CHQ</td>\n",
       "            <td>101739.44</td>\n",
       "            <td>95431.93</td>\n",
       "        </tr>\n",
       "        <tr>\n",
       "            <td>164</td>\n",
       "            <td>CHQ</td>\n",
       "            <td>101336.25</td>\n",
       "            <td>94145.63</td>\n",
       "        </tr>\n",
       "        <tr>\n",
       "            <td>115</td>\n",
       "            <td>BUS</td>\n",
       "            <td>102857.55</td>\n",
       "            <td>93549.92</td>\n",
       "        </tr>\n",
       "        <tr>\n",
       "            <td>139</td>\n",
       "            <td>BUS</td>\n",
       "            <td>101394.11</td>\n",
       "            <td>92397.65</td>\n",
       "        </tr>\n",
       "        <tr>\n",
       "            <td>59</td>\n",
       "            <td>CHQ</td>\n",
       "            <td>112534.31</td>\n",
       "            <td>91590.92</td>\n",
       "        </tr>\n",
       "        <tr>\n",
       "            <td>221</td>\n",
       "            <td>BUS</td>\n",
       "            <td>105068.53</td>\n",
       "            <td>90728.42</td>\n",
       "        </tr>\n",
       "        <tr>\n",
       "            <td>291</td>\n",
       "            <td>SAV</td>\n",
       "            <td>101504.47</td>\n",
       "            <td>90181.92</td>\n",
       "        </tr>\n",
       "        <tr>\n",
       "            <td>200</td>\n",
       "            <td>BUS</td>\n",
       "            <td>100035.01</td>\n",
       "            <td>87660.19</td>\n",
       "        </tr>\n",
       "        <tr>\n",
       "            <td>130</td>\n",
       "            <td>CHQ</td>\n",
       "            <td>102776.09</td>\n",
       "            <td>87542.82</td>\n",
       "        </tr>\n",
       "        <tr>\n",
       "            <td>107</td>\n",
       "            <td>BUS</td>\n",
       "            <td>102366.95</td>\n",
       "            <td>86853.53</td>\n",
       "        </tr>\n",
       "        <tr>\n",
       "            <td>106</td>\n",
       "            <td>BUS</td>\n",
       "            <td>102297.76</td>\n",
       "            <td>85329.15</td>\n",
       "        </tr>\n",
       "        <tr>\n",
       "            <td>148</td>\n",
       "            <td>CHQ</td>\n",
       "            <td>100187.85</td>\n",
       "            <td>83528.49</td>\n",
       "        </tr>\n",
       "    </tbody>\n",
       "</table>"
      ],
      "text/plain": [
       "[(9, 'SAV', 132271.23, 114869.79),\n",
       " (8, 'BUS', 121267.54, 114680.63),\n",
       " (31, 'CHQ', 111209.89, 110249.28),\n",
       " (1, 'SAV', 118231.13, 109587.15),\n",
       " (25, 'SAV', 105997.07, 109068.54),\n",
       " (13, 'CHQ', 112505.84, 108440.2),\n",
       " (20, 'CHQ', 107270.59, 108278.46),\n",
       " (4, 'BUS', 106503.6, 104550.76),\n",
       " (26, 'SAV', 112046.36, 104346.46),\n",
       " (6, 'CHQ', 107309.23, 104247.4),\n",
       " (18, 'BUS', 103579.69, 103802.18),\n",
       " (17, 'CHQ', 103356.07, 103431.57),\n",
       " (28, 'CHQ', 112617.97, 102680.84),\n",
       " (5, 'CHQ', 105696.04, 101945.4),\n",
       " (2, 'CHQ', 100808.03, 100002.19),\n",
       " (81, 'CHQ', 107129.47, 99712.38),\n",
       " (227, 'CHQ', 109916.78, 98987.65),\n",
       " (218, 'BUS', 103650.37, 98757.79),\n",
       " (119, 'CHQ', 113473.16, 98480.27),\n",
       " (147, 'CHQ', 114094.94, 98155.28),\n",
       " (121, 'SAV', 103512.78, 98101.36),\n",
       " (187, 'CHQ', 103328.66, 97629.4),\n",
       " (165, 'CHQ', 108042.83, 96796.3),\n",
       " (138, 'BUS', 104044.22, 96658.35),\n",
       " (176, 'CHQ', 113048.79, 96473.74),\n",
       " (282, 'SAV', 101063.84, 96430.68),\n",
       " (135, 'SAV', 105420.87, 95889.6),\n",
       " (198, 'CHQ', 102686.76, 95539.37),\n",
       " (272, 'CHQ', 101739.44, 95431.93),\n",
       " (164, 'CHQ', 101336.25, 94145.63),\n",
       " (115, 'BUS', 102857.55, 93549.92),\n",
       " (139, 'BUS', 101394.11, 92397.65),\n",
       " (59, 'CHQ', 112534.31, 91590.92),\n",
       " (221, 'BUS', 105068.53, 90728.42),\n",
       " (291, 'SAV', 101504.47, 90181.92),\n",
       " (200, 'BUS', 100035.01, 87660.19),\n",
       " (130, 'CHQ', 102776.09, 87542.82),\n",
       " (107, 'BUS', 102366.95, 86853.53),\n",
       " (106, 'BUS', 102297.76, 85329.15),\n",
       " (148, 'CHQ', 100187.85, 83528.49)]"
      ]
     },
     "execution_count": 9,
     "metadata": {},
     "output_type": "execute_result"
    }
   ],
   "source": [
    "%%sql\n",
    "SELECT Account.accNumber, Account.type, Account.balance, Transactions.amount\n",
    "FROM Account\n",
    "JOIN Transactions ON Account.accNumber = Transactions.accNumber\n",
    "WHERE Account.balance > 100000 AND Transactions.amount > 15000\n",
    "ORDER BY Transactions.amount DESC, Account.balance DESC;\n"
   ]
  },
  {
   "cell_type": "markdown",
   "metadata": {},
   "source": [
    "5.8 (2 points) Please write a SQL query to find the customer ID, first name, and last name of customers who own accounts at London and Berlin branches, order by last name and first name."
   ]
  },
  {
   "cell_type": "code",
   "execution_count": 10,
   "metadata": {},
   "outputs": [
    {
     "name": "stdout",
     "output_type": "stream",
     "text": [
      " * sqlite:///bank.db\n",
      "   sqlite:///cssys.db\n",
      "Done.\n"
     ]
    },
    {
     "data": {
      "text/html": [
       "<table>\n",
       "    <thead>\n",
       "        <tr>\n",
       "            <th>customerID</th>\n",
       "            <th>firstName</th>\n",
       "            <th>lastName</th>\n",
       "        </tr>\n",
       "    </thead>\n",
       "    <tbody>\n",
       "        <tr>\n",
       "            <td>66418</td>\n",
       "            <td>Stephanie</td>\n",
       "            <td>Adams</td>\n",
       "        </tr>\n",
       "        <tr>\n",
       "            <td>89197</td>\n",
       "            <td>Lawrence</td>\n",
       "            <td>Anderson</td>\n",
       "        </tr>\n",
       "        <tr>\n",
       "            <td>41545</td>\n",
       "            <td>Terry</td>\n",
       "            <td>Bailey</td>\n",
       "        </tr>\n",
       "        <tr>\n",
       "            <td>33726</td>\n",
       "            <td>Jerry</td>\n",
       "            <td>Cook</td>\n",
       "        </tr>\n",
       "        <tr>\n",
       "            <td>86357</td>\n",
       "            <td>Andrew</td>\n",
       "            <td>Evans</td>\n",
       "        </tr>\n",
       "        <tr>\n",
       "            <td>44922</td>\n",
       "            <td>Dennis</td>\n",
       "            <td>Flores</td>\n",
       "        </tr>\n",
       "        <tr>\n",
       "            <td>87978</td>\n",
       "            <td>Christopher</td>\n",
       "            <td>Gonzalez</td>\n",
       "        </tr>\n",
       "        <tr>\n",
       "            <td>10839</td>\n",
       "            <td>Amy</td>\n",
       "            <td>Hayes</td>\n",
       "        </tr>\n",
       "        <tr>\n",
       "            <td>99537</td>\n",
       "            <td>Deborah</td>\n",
       "            <td>Hernandez</td>\n",
       "        </tr>\n",
       "        <tr>\n",
       "            <td>13697</td>\n",
       "            <td>Charles</td>\n",
       "            <td>Hill</td>\n",
       "        </tr>\n",
       "        <tr>\n",
       "            <td>38861</td>\n",
       "            <td>Gerald</td>\n",
       "            <td>James</td>\n",
       "        </tr>\n",
       "        <tr>\n",
       "            <td>73386</td>\n",
       "            <td>Arthur</td>\n",
       "            <td>Jones</td>\n",
       "        </tr>\n",
       "        <tr>\n",
       "            <td>47953</td>\n",
       "            <td>Frank</td>\n",
       "            <td>Martinez</td>\n",
       "        </tr>\n",
       "        <tr>\n",
       "            <td>88375</td>\n",
       "            <td>Randy</td>\n",
       "            <td>Mitchell</td>\n",
       "        </tr>\n",
       "        <tr>\n",
       "            <td>90649</td>\n",
       "            <td>Helen</td>\n",
       "            <td>Morgan</td>\n",
       "        </tr>\n",
       "        <tr>\n",
       "            <td>46058</td>\n",
       "            <td>Adam</td>\n",
       "            <td>Rivera</td>\n",
       "        </tr>\n",
       "        <tr>\n",
       "            <td>52189</td>\n",
       "            <td>Shawn</td>\n",
       "            <td>Sanders</td>\n",
       "        </tr>\n",
       "        <tr>\n",
       "            <td>13423</td>\n",
       "            <td>Norma</td>\n",
       "            <td>Simmons</td>\n",
       "        </tr>\n",
       "        <tr>\n",
       "            <td>65441</td>\n",
       "            <td>Arthur</td>\n",
       "            <td>Thompson</td>\n",
       "        </tr>\n",
       "        <tr>\n",
       "            <td>29474</td>\n",
       "            <td>Amanda</td>\n",
       "            <td>White</td>\n",
       "        </tr>\n",
       "        <tr>\n",
       "            <td>63859</td>\n",
       "            <td>Maria</td>\n",
       "            <td>Young</td>\n",
       "        </tr>\n",
       "    </tbody>\n",
       "</table>"
      ],
      "text/plain": [
       "[(66418, 'Stephanie', 'Adams'),\n",
       " (89197, 'Lawrence', 'Anderson'),\n",
       " (41545, 'Terry', 'Bailey'),\n",
       " (33726, 'Jerry', 'Cook'),\n",
       " (86357, 'Andrew', 'Evans'),\n",
       " (44922, 'Dennis', 'Flores'),\n",
       " (87978, 'Christopher', 'Gonzalez'),\n",
       " (10839, 'Amy', 'Hayes'),\n",
       " (99537, 'Deborah', 'Hernandez'),\n",
       " (13697, 'Charles', 'Hill'),\n",
       " (38861, 'Gerald', 'James'),\n",
       " (73386, 'Arthur', 'Jones'),\n",
       " (47953, 'Frank', 'Martinez'),\n",
       " (88375, 'Randy', 'Mitchell'),\n",
       " (90649, 'Helen', 'Morgan'),\n",
       " (46058, 'Adam', 'Rivera'),\n",
       " (52189, 'Shawn', 'Sanders'),\n",
       " (13423, 'Norma', 'Simmons'),\n",
       " (65441, 'Arthur', 'Thompson'),\n",
       " (29474, 'Amanda', 'White'),\n",
       " (63859, 'Maria', 'Young')]"
      ]
     },
     "execution_count": 10,
     "metadata": {},
     "output_type": "execute_result"
    }
   ],
   "source": [
    "%%sql\n",
    "SELECT DISTINCT Customer.customerID, Customer.firstName, Customer.lastName\n",
    "FROM Customer\n",
    "JOIN Owns ON Customer.customerID = Owns.customerID\n",
    "JOIN Account ON Owns.accNumber = Account.accNumber\n",
    "JOIN Branch ON Account.branchNumber = Branch.branchNumber\n",
    "WHERE Branch.branchName IN ('London', 'Berlin')\n",
    "GROUP BY Customer.customerID, Customer.firstName, Customer.lastName\n",
    "HAVING COUNT(DISTINCT Branch.branchName) = 2\n",
    "ORDER BY Customer.lastName, Customer.firstName;\n"
   ]
  },
  {
   "cell_type": "markdown",
   "metadata": {},
   "source": [
    "## Submission"
   ]
  },
  {
   "cell_type": "markdown",
   "metadata": {},
   "source": [
    "Complete the code in this notebook, and submit it to through Canvas system to your Homework 1 activity."
   ]
  }
 ],
 "metadata": {
  "kernelspec": {
   "display_name": "\"Python/Mu (mu_venv-38-20221121-011051)\"",
   "language": "python",
   "name": "mu_venv-38-20221121-011051"
  },
  "language_info": {
   "codemirror_mode": {
    "name": "ipython",
    "version": 3
   },
   "file_extension": ".py",
   "mimetype": "text/x-python",
   "name": "python",
   "nbconvert_exporter": "python",
   "pygments_lexer": "ipython3",
   "version": "3.8.12"
  }
 },
 "nbformat": 4,
 "nbformat_minor": 4
}
